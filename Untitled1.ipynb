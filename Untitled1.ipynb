{
  "nbformat": 4,
  "nbformat_minor": 0,
  "metadata": {
    "colab": {
      "name": "Copy of Untitled1.ipynb",
      "provenance": [],
      "collapsed_sections": [],
      "include_colab_link": true
    },
    "kernelspec": {
      "name": "python3",
      "display_name": "Python 3"
    },
    "language_info": {
      "name": "python"
    }
  },
  "cells": [
    {
      "cell_type": "markdown",
      "metadata": {
        "id": "view-in-github",
        "colab_type": "text"
      },
      "source": [
        "<a href=\"https://colab.research.google.com/github/PauloFerreiraog/IA/blob/main/Untitled1.ipynb\" target=\"_parent\"><img src=\"https://colab.research.google.com/assets/colab-badge.svg\" alt=\"Open In Colab\"/></a>"
      ]
    },
    {
      "cell_type": "code",
      "source": [
        "from google.colab import drive\n",
        "drive.mount('/content/drive')"
      ],
      "metadata": {
        "colab": {
          "base_uri": "https://localhost:8080/"
        },
        "id": "t9fvRugj1Ur2",
        "outputId": "dbde4b0a-0e95-496b-b5f8-885f2bed0903"
      },
      "execution_count": 217,
      "outputs": [
        {
          "output_type": "stream",
          "name": "stdout",
          "text": [
            "Drive already mounted at /content/drive; to attempt to forcibly remount, call drive.mount(\"/content/drive\", force_remount=True).\n"
          ]
        }
      ]
    },
    {
      "cell_type": "code",
      "source": [
        "%%capture\n",
        "!pip3 install graphviz "
      ],
      "metadata": {
        "id": "abtYlxdg2hSd"
      },
      "execution_count": 218,
      "outputs": []
    },
    {
      "cell_type": "markdown",
      "source": [
        "Importação de Biliotecas necessárias"
      ],
      "metadata": {
        "id": "2FHftwO1wNvq"
      }
    },
    {
      "cell_type": "code",
      "source": [
        "import pandas as pd\n",
        "\n",
        "import seaborn as sns\n",
        "\n",
        "from sklearn.model_selection import train_test_split\n",
        "\n",
        "from sklearn import tree\n",
        "\n",
        "from sklearn.metrics import accuracy_score,classification_report,confusion_matrix\n",
        "\n",
        "import graphviz\n",
        "\n",
        "import matplotlib.pyplot as plt\n",
        "\n",
        "import math\n",
        "\n",
        "from sklearn.neighbors import KNeighborsClassifier\n",
        "\n",
        "from sklearn import svm\n",
        "\n"
      ],
      "metadata": {
        "id": "LgHIj55rwcHL"
      },
      "execution_count": 219,
      "outputs": []
    },
    {
      "cell_type": "code",
      "source": [
        "df_test = pd.read_csv('/content/drive/MyDrive/IART/WA_Fn-UseC_-Telco-Customer-Churn_R2_Test.csv')\n",
        "df = pd.read_csv('/content/drive/MyDrive/IART/WA_Fn-UseC_-Telco-Customer-Churn_R2.csv')\n",
        "df_aux = pd.read_csv('/content/drive/MyDrive/IART/WA_Fn-UseC_-Telco-Customer-Churn_R2.csv')\n",
        "\n",
        "\n",
        "df_aux.loc[df_aux['gender'] == 1, 'gender'] = 'male'\n",
        "df_aux.loc[df_aux['gender'] == 0, 'gender'] = 'female'\n",
        "\n",
        "df_aux.loc[df_aux['SeniorCitizen'] == 1, 'SeniorCitizen'] = 'Senior'\n",
        "df_aux.loc[df_aux['SeniorCitizen'] == 0, 'SeniorCitizen'] = 'Not Senior'\n",
        "\n",
        "\n",
        "df_aux.loc[df_aux['InternetService'] == 0, 'InternetService'] = 'No'\n",
        "df_aux.loc[df_aux['InternetService'] == 1, 'InternetService'] = 'DSL'\n",
        "df_aux.loc[df_aux['InternetService'] == 2, 'InternetService'] = 'Fiber optic'\n",
        "\n",
        "df_aux.loc[df_aux['PaymentMethod'] == 0, 'PaymentMethod'] = 'automatic'\n",
        "df_aux.loc[df_aux['PaymentMethod'] == 1, 'PaymentMethod'] = 'Automatic card'\n",
        "df_aux.loc[df_aux['PaymentMethod'] == 2, 'PaymentMethod'] = 'E-cheque'\n",
        "df_aux.loc[df_aux['PaymentMethod'] == 3, 'PaymentMethod'] = 'Mailed cheque'\n",
        "\n",
        "df_aux.loc[df_aux['PaperlessBilling'] == 0, 'PaperlessBilling'] = 'No'\n",
        "df_aux.loc[df_aux['PaperlessBilling'] == 1, 'PaperlessBilling'] = 'Yes'\n",
        "\n",
        "df_aux.loc[df_aux['Contract'] == 0, 'Contract'] = 'Monthly'\n",
        "df_aux.loc[df_aux['Contract'] == 1, 'Contract'] = 'One Year'\n",
        "df_aux.loc[df_aux['Contract'] == 2, 'Contract'] = 'Two Year'\n",
        "\n",
        "df_aux.loc[df_aux['Dependents'] == 0, 'Dependents'] = 'No'\n",
        "df_aux.loc[df_aux['Dependents'] == 1, 'Dependents'] = 'Yes'\n",
        "\n",
        "df_aux.loc[df_aux['OnlineSecurity'] == 0, 'OnlineSecurity'] = 'No'\n",
        "df_aux.loc[df_aux['OnlineSecurity'] == 1, 'OnlineSecurity'] = 'Yes'\n",
        "df_aux.loc[df_aux['OnlineSecurity'] == 2, 'OnlineSecurity'] = 'NA'\n",
        "\n",
        "df_aux.loc[df_aux['OnlineBackup'] == 0, 'OnlineBackup'] = 'No'\n",
        "df_aux.loc[df_aux['OnlineBackup'] == 1, 'OnlineBackup'] = 'Yes'\n",
        "df_aux.loc[df_aux['OnlineBackup'] == 2, 'OnlineBackup'] = 'NA '\n",
        "\n",
        "df_aux.loc[df_aux['TechSupport'] == 0, 'TechSupport'] = 'No'\n",
        "df_aux.loc[df_aux['TechSupport'] == 1, 'TechSupport'] = 'Yes'\n",
        "df_aux.loc[df_aux['TechSupport'] == 2, 'TechSupport'] = 'NA'\n",
        "\n",
        "df_aux.loc[df_aux['StreamingMovies'] == 0, 'StreamingMovies'] = 'No'\n",
        "df_aux.loc[df_aux['StreamingMovies'] == 1, 'StreamingMovies'] = 'Yes'\n",
        "df_aux.loc[df_aux['StreamingMovies'] == 2, 'StreamingMovies'] = 'NA'\n",
        "\n",
        "df_aux.loc[df_aux['DeviceProtection'] == 0, 'DeviceProtection'] = 'No'\n",
        "df_aux.loc[df_aux['DeviceProtection'] == 1, 'DeviceProtection'] = 'Yes'\n",
        "df_aux.loc[df_aux['DeviceProtection'] == 2, 'DeviceProtection'] = 'NA'\n",
        "\n",
        "\n"
      ],
      "metadata": {
        "id": "2Y4qGkkcUVVt"
      },
      "execution_count": 220,
      "outputs": []
    },
    {
      "cell_type": "markdown",
      "source": [
        "Verificar a data com head() e describe()"
      ],
      "metadata": {
        "id": "BvQfWd6pU5oT"
      }
    },
    {
      "cell_type": "code",
      "source": [
        "df.head()\n",
        "\n"
      ],
      "metadata": {
        "id": "_lRZRh4rU2gG",
        "colab": {
          "base_uri": "https://localhost:8080/",
          "height": 386
        },
        "outputId": "1cee9f58-95dd-4844-a292-8912b8290c48"
      },
      "execution_count": 221,
      "outputs": [
        {
          "output_type": "execute_result",
          "data": {
            "text/plain": [
              "   customerID  gender  SeniorCitizen  Partner  Dependents  Tenure  \\\n",
              "0  7590-VHVEG       0              0        1           0       1   \n",
              "1  5575-GNVDE       1              0        0           0      34   \n",
              "2  3668-QPYBK       1              0        0           0       2   \n",
              "3  7795-CFOCW       1              0        0           0      45   \n",
              "4  9237-HQITU       0              0        0           0       2   \n",
              "\n",
              "   PhoneService  MultipleLines  InternetService  OnlineSecurity  ...  \\\n",
              "0             0              0                1               0  ...   \n",
              "1             1              0                1               1  ...   \n",
              "2             1              0                1               1  ...   \n",
              "3             0              0                1               1  ...   \n",
              "4             1              0                2               0  ...   \n",
              "\n",
              "   DeviceProtection  TechSupport  StreamingTV  StreamingMovies  Contract  \\\n",
              "0                 0            0            0                0         0   \n",
              "1                 1            0            0                0         1   \n",
              "2                 0            0            0                0         0   \n",
              "3                 1            1            0                0         1   \n",
              "4                 0            0            0                0         0   \n",
              "\n",
              "   PaperlessBilling  PaymentMethod  MonthlyCharges  TotalCharges  Churn  \n",
              "0                 1              2           29.85         29.85      0  \n",
              "1                 0              3           56.95       1889.50      0  \n",
              "2                 1              3           53.85        108.15      1  \n",
              "3                 0              0           42.30       1840.75      0  \n",
              "4                 1              2           70.70        151.65      1  \n",
              "\n",
              "[5 rows x 21 columns]"
            ],
            "text/html": [
              "\n",
              "  <div id=\"df-84c6a3a6-eac4-47c7-b423-b9624f53720a\">\n",
              "    <div class=\"colab-df-container\">\n",
              "      <div>\n",
              "<style scoped>\n",
              "    .dataframe tbody tr th:only-of-type {\n",
              "        vertical-align: middle;\n",
              "    }\n",
              "\n",
              "    .dataframe tbody tr th {\n",
              "        vertical-align: top;\n",
              "    }\n",
              "\n",
              "    .dataframe thead th {\n",
              "        text-align: right;\n",
              "    }\n",
              "</style>\n",
              "<table border=\"1\" class=\"dataframe\">\n",
              "  <thead>\n",
              "    <tr style=\"text-align: right;\">\n",
              "      <th></th>\n",
              "      <th>customerID</th>\n",
              "      <th>gender</th>\n",
              "      <th>SeniorCitizen</th>\n",
              "      <th>Partner</th>\n",
              "      <th>Dependents</th>\n",
              "      <th>Tenure</th>\n",
              "      <th>PhoneService</th>\n",
              "      <th>MultipleLines</th>\n",
              "      <th>InternetService</th>\n",
              "      <th>OnlineSecurity</th>\n",
              "      <th>...</th>\n",
              "      <th>DeviceProtection</th>\n",
              "      <th>TechSupport</th>\n",
              "      <th>StreamingTV</th>\n",
              "      <th>StreamingMovies</th>\n",
              "      <th>Contract</th>\n",
              "      <th>PaperlessBilling</th>\n",
              "      <th>PaymentMethod</th>\n",
              "      <th>MonthlyCharges</th>\n",
              "      <th>TotalCharges</th>\n",
              "      <th>Churn</th>\n",
              "    </tr>\n",
              "  </thead>\n",
              "  <tbody>\n",
              "    <tr>\n",
              "      <th>0</th>\n",
              "      <td>7590-VHVEG</td>\n",
              "      <td>0</td>\n",
              "      <td>0</td>\n",
              "      <td>1</td>\n",
              "      <td>0</td>\n",
              "      <td>1</td>\n",
              "      <td>0</td>\n",
              "      <td>0</td>\n",
              "      <td>1</td>\n",
              "      <td>0</td>\n",
              "      <td>...</td>\n",
              "      <td>0</td>\n",
              "      <td>0</td>\n",
              "      <td>0</td>\n",
              "      <td>0</td>\n",
              "      <td>0</td>\n",
              "      <td>1</td>\n",
              "      <td>2</td>\n",
              "      <td>29.85</td>\n",
              "      <td>29.85</td>\n",
              "      <td>0</td>\n",
              "    </tr>\n",
              "    <tr>\n",
              "      <th>1</th>\n",
              "      <td>5575-GNVDE</td>\n",
              "      <td>1</td>\n",
              "      <td>0</td>\n",
              "      <td>0</td>\n",
              "      <td>0</td>\n",
              "      <td>34</td>\n",
              "      <td>1</td>\n",
              "      <td>0</td>\n",
              "      <td>1</td>\n",
              "      <td>1</td>\n",
              "      <td>...</td>\n",
              "      <td>1</td>\n",
              "      <td>0</td>\n",
              "      <td>0</td>\n",
              "      <td>0</td>\n",
              "      <td>1</td>\n",
              "      <td>0</td>\n",
              "      <td>3</td>\n",
              "      <td>56.95</td>\n",
              "      <td>1889.50</td>\n",
              "      <td>0</td>\n",
              "    </tr>\n",
              "    <tr>\n",
              "      <th>2</th>\n",
              "      <td>3668-QPYBK</td>\n",
              "      <td>1</td>\n",
              "      <td>0</td>\n",
              "      <td>0</td>\n",
              "      <td>0</td>\n",
              "      <td>2</td>\n",
              "      <td>1</td>\n",
              "      <td>0</td>\n",
              "      <td>1</td>\n",
              "      <td>1</td>\n",
              "      <td>...</td>\n",
              "      <td>0</td>\n",
              "      <td>0</td>\n",
              "      <td>0</td>\n",
              "      <td>0</td>\n",
              "      <td>0</td>\n",
              "      <td>1</td>\n",
              "      <td>3</td>\n",
              "      <td>53.85</td>\n",
              "      <td>108.15</td>\n",
              "      <td>1</td>\n",
              "    </tr>\n",
              "    <tr>\n",
              "      <th>3</th>\n",
              "      <td>7795-CFOCW</td>\n",
              "      <td>1</td>\n",
              "      <td>0</td>\n",
              "      <td>0</td>\n",
              "      <td>0</td>\n",
              "      <td>45</td>\n",
              "      <td>0</td>\n",
              "      <td>0</td>\n",
              "      <td>1</td>\n",
              "      <td>1</td>\n",
              "      <td>...</td>\n",
              "      <td>1</td>\n",
              "      <td>1</td>\n",
              "      <td>0</td>\n",
              "      <td>0</td>\n",
              "      <td>1</td>\n",
              "      <td>0</td>\n",
              "      <td>0</td>\n",
              "      <td>42.30</td>\n",
              "      <td>1840.75</td>\n",
              "      <td>0</td>\n",
              "    </tr>\n",
              "    <tr>\n",
              "      <th>4</th>\n",
              "      <td>9237-HQITU</td>\n",
              "      <td>0</td>\n",
              "      <td>0</td>\n",
              "      <td>0</td>\n",
              "      <td>0</td>\n",
              "      <td>2</td>\n",
              "      <td>1</td>\n",
              "      <td>0</td>\n",
              "      <td>2</td>\n",
              "      <td>0</td>\n",
              "      <td>...</td>\n",
              "      <td>0</td>\n",
              "      <td>0</td>\n",
              "      <td>0</td>\n",
              "      <td>0</td>\n",
              "      <td>0</td>\n",
              "      <td>1</td>\n",
              "      <td>2</td>\n",
              "      <td>70.70</td>\n",
              "      <td>151.65</td>\n",
              "      <td>1</td>\n",
              "    </tr>\n",
              "  </tbody>\n",
              "</table>\n",
              "<p>5 rows × 21 columns</p>\n",
              "</div>\n",
              "      <button class=\"colab-df-convert\" onclick=\"convertToInteractive('df-84c6a3a6-eac4-47c7-b423-b9624f53720a')\"\n",
              "              title=\"Convert this dataframe to an interactive table.\"\n",
              "              style=\"display:none;\">\n",
              "        \n",
              "  <svg xmlns=\"http://www.w3.org/2000/svg\" height=\"24px\"viewBox=\"0 0 24 24\"\n",
              "       width=\"24px\">\n",
              "    <path d=\"M0 0h24v24H0V0z\" fill=\"none\"/>\n",
              "    <path d=\"M18.56 5.44l.94 2.06.94-2.06 2.06-.94-2.06-.94-.94-2.06-.94 2.06-2.06.94zm-11 1L8.5 8.5l.94-2.06 2.06-.94-2.06-.94L8.5 2.5l-.94 2.06-2.06.94zm10 10l.94 2.06.94-2.06 2.06-.94-2.06-.94-.94-2.06-.94 2.06-2.06.94z\"/><path d=\"M17.41 7.96l-1.37-1.37c-.4-.4-.92-.59-1.43-.59-.52 0-1.04.2-1.43.59L10.3 9.45l-7.72 7.72c-.78.78-.78 2.05 0 2.83L4 21.41c.39.39.9.59 1.41.59.51 0 1.02-.2 1.41-.59l7.78-7.78 2.81-2.81c.8-.78.8-2.07 0-2.86zM5.41 20L4 18.59l7.72-7.72 1.47 1.35L5.41 20z\"/>\n",
              "  </svg>\n",
              "      </button>\n",
              "      \n",
              "  <style>\n",
              "    .colab-df-container {\n",
              "      display:flex;\n",
              "      flex-wrap:wrap;\n",
              "      gap: 12px;\n",
              "    }\n",
              "\n",
              "    .colab-df-convert {\n",
              "      background-color: #E8F0FE;\n",
              "      border: none;\n",
              "      border-radius: 50%;\n",
              "      cursor: pointer;\n",
              "      display: none;\n",
              "      fill: #1967D2;\n",
              "      height: 32px;\n",
              "      padding: 0 0 0 0;\n",
              "      width: 32px;\n",
              "    }\n",
              "\n",
              "    .colab-df-convert:hover {\n",
              "      background-color: #E2EBFA;\n",
              "      box-shadow: 0px 1px 2px rgba(60, 64, 67, 0.3), 0px 1px 3px 1px rgba(60, 64, 67, 0.15);\n",
              "      fill: #174EA6;\n",
              "    }\n",
              "\n",
              "    [theme=dark] .colab-df-convert {\n",
              "      background-color: #3B4455;\n",
              "      fill: #D2E3FC;\n",
              "    }\n",
              "\n",
              "    [theme=dark] .colab-df-convert:hover {\n",
              "      background-color: #434B5C;\n",
              "      box-shadow: 0px 1px 3px 1px rgba(0, 0, 0, 0.15);\n",
              "      filter: drop-shadow(0px 1px 2px rgba(0, 0, 0, 0.3));\n",
              "      fill: #FFFFFF;\n",
              "    }\n",
              "  </style>\n",
              "\n",
              "      <script>\n",
              "        const buttonEl =\n",
              "          document.querySelector('#df-84c6a3a6-eac4-47c7-b423-b9624f53720a button.colab-df-convert');\n",
              "        buttonEl.style.display =\n",
              "          google.colab.kernel.accessAllowed ? 'block' : 'none';\n",
              "\n",
              "        async function convertToInteractive(key) {\n",
              "          const element = document.querySelector('#df-84c6a3a6-eac4-47c7-b423-b9624f53720a');\n",
              "          const dataTable =\n",
              "            await google.colab.kernel.invokeFunction('convertToInteractive',\n",
              "                                                     [key], {});\n",
              "          if (!dataTable) return;\n",
              "\n",
              "          const docLinkHtml = 'Like what you see? Visit the ' +\n",
              "            '<a target=\"_blank\" href=https://colab.research.google.com/notebooks/data_table.ipynb>data table notebook</a>'\n",
              "            + ' to learn more about interactive tables.';\n",
              "          element.innerHTML = '';\n",
              "          dataTable['output_type'] = 'display_data';\n",
              "          await google.colab.output.renderOutput(dataTable, element);\n",
              "          const docLink = document.createElement('div');\n",
              "          docLink.innerHTML = docLinkHtml;\n",
              "          element.appendChild(docLink);\n",
              "        }\n",
              "      </script>\n",
              "    </div>\n",
              "  </div>\n",
              "  "
            ]
          },
          "metadata": {},
          "execution_count": 221
        }
      ]
    },
    {
      "cell_type": "code",
      "source": [
        "df.describe()"
      ],
      "metadata": {
        "id": "t02m6Rj9W45D",
        "colab": {
          "base_uri": "https://localhost:8080/",
          "height": 364
        },
        "outputId": "24a6a140-8ae6-462f-ba44-4781d0765880"
      },
      "execution_count": 238,
      "outputs": [
        {
          "output_type": "execute_result",
          "data": {
            "text/plain": [
              "            gender  SeniorCitizen      Partner   Dependents       Tenure  \\\n",
              "count  7011.000000    7011.000000  7011.000000  7011.000000  7011.000000   \n",
              "mean      0.504636       0.162316     0.482955     0.298959     0.442628   \n",
              "std       0.500014       0.368767     0.499745     0.457834     0.345674   \n",
              "min       0.000000       0.000000     0.000000     0.000000     0.000000   \n",
              "25%       0.000000       0.000000     0.000000     0.000000     0.112676   \n",
              "50%       1.000000       0.000000     0.000000     0.000000     0.394366   \n",
              "75%       1.000000       0.000000     1.000000     1.000000     0.760563   \n",
              "max       1.000000       1.000000     1.000000     1.000000     1.000000   \n",
              "\n",
              "       PhoneService  MultipleLines  InternetService  OnlineSecurity  \\\n",
              "count   7011.000000    7011.000000      7011.000000     7011.000000   \n",
              "mean       0.903295       0.422051         1.224076        0.719298   \n",
              "std        0.295577       0.493922         0.778727        0.796531   \n",
              "min        0.000000       0.000000         0.000000        0.000000   \n",
              "25%        1.000000       0.000000         1.000000        0.000000   \n",
              "50%        1.000000       0.000000         1.000000        1.000000   \n",
              "75%        1.000000       1.000000         2.000000        1.000000   \n",
              "max        1.000000       1.000000         2.000000        2.000000   \n",
              "\n",
              "       OnlineBackup  DeviceProtection  TechSupport  StreamingTV  \\\n",
              "count    7011.00000       7011.000000  7011.000000  7011.000000   \n",
              "mean        0.77735          0.776351     0.722579     0.816574   \n",
              "std         0.77822          0.778575     0.795621     0.763104   \n",
              "min         0.00000          0.000000     0.000000     0.000000   \n",
              "25%         0.00000          0.000000     0.000000     0.000000   \n",
              "50%         1.00000          1.000000     1.000000     1.000000   \n",
              "75%         1.00000          1.000000     1.000000     1.000000   \n",
              "max         2.00000          2.000000     2.000000     2.000000   \n",
              "\n",
              "       StreamingMovies    Contract  PaperlessBilling  PaymentMethod  \\\n",
              "count      7011.000000  7011.00000       7011.000000    7011.000000   \n",
              "mean          0.820996     0.68906          0.592212       1.573242   \n",
              "std           0.761254     0.83317          0.491458       1.067423   \n",
              "min           0.000000     0.00000          0.000000       0.000000   \n",
              "25%           0.000000     0.00000          0.000000       1.000000   \n",
              "50%           1.000000     0.00000          1.000000       2.000000   \n",
              "75%           1.000000     1.00000          1.000000       2.000000   \n",
              "max           2.000000     2.00000          1.000000       3.000000   \n",
              "\n",
              "       MonthlyCharges  TotalCharges        Churn  \n",
              "count     7011.000000   7011.000000  7011.000000  \n",
              "mean         0.463171      0.261346     0.265868  \n",
              "std          0.299443      0.261560     0.441826  \n",
              "min          0.000000      0.000000     0.000000  \n",
              "25%          0.172139      0.044150     0.000000  \n",
              "50%          0.518408      0.159070     0.000000  \n",
              "75%          0.712935      0.436138     1.000000  \n",
              "max          1.000000      1.000000     1.000000  "
            ],
            "text/html": [
              "\n",
              "  <div id=\"df-327823ca-e173-43cf-9f70-a29832bd470d\">\n",
              "    <div class=\"colab-df-container\">\n",
              "      <div>\n",
              "<style scoped>\n",
              "    .dataframe tbody tr th:only-of-type {\n",
              "        vertical-align: middle;\n",
              "    }\n",
              "\n",
              "    .dataframe tbody tr th {\n",
              "        vertical-align: top;\n",
              "    }\n",
              "\n",
              "    .dataframe thead th {\n",
              "        text-align: right;\n",
              "    }\n",
              "</style>\n",
              "<table border=\"1\" class=\"dataframe\">\n",
              "  <thead>\n",
              "    <tr style=\"text-align: right;\">\n",
              "      <th></th>\n",
              "      <th>gender</th>\n",
              "      <th>SeniorCitizen</th>\n",
              "      <th>Partner</th>\n",
              "      <th>Dependents</th>\n",
              "      <th>Tenure</th>\n",
              "      <th>PhoneService</th>\n",
              "      <th>MultipleLines</th>\n",
              "      <th>InternetService</th>\n",
              "      <th>OnlineSecurity</th>\n",
              "      <th>OnlineBackup</th>\n",
              "      <th>DeviceProtection</th>\n",
              "      <th>TechSupport</th>\n",
              "      <th>StreamingTV</th>\n",
              "      <th>StreamingMovies</th>\n",
              "      <th>Contract</th>\n",
              "      <th>PaperlessBilling</th>\n",
              "      <th>PaymentMethod</th>\n",
              "      <th>MonthlyCharges</th>\n",
              "      <th>TotalCharges</th>\n",
              "      <th>Churn</th>\n",
              "    </tr>\n",
              "  </thead>\n",
              "  <tbody>\n",
              "    <tr>\n",
              "      <th>count</th>\n",
              "      <td>7011.000000</td>\n",
              "      <td>7011.000000</td>\n",
              "      <td>7011.000000</td>\n",
              "      <td>7011.000000</td>\n",
              "      <td>7011.000000</td>\n",
              "      <td>7011.000000</td>\n",
              "      <td>7011.000000</td>\n",
              "      <td>7011.000000</td>\n",
              "      <td>7011.000000</td>\n",
              "      <td>7011.00000</td>\n",
              "      <td>7011.000000</td>\n",
              "      <td>7011.000000</td>\n",
              "      <td>7011.000000</td>\n",
              "      <td>7011.000000</td>\n",
              "      <td>7011.00000</td>\n",
              "      <td>7011.000000</td>\n",
              "      <td>7011.000000</td>\n",
              "      <td>7011.000000</td>\n",
              "      <td>7011.000000</td>\n",
              "      <td>7011.000000</td>\n",
              "    </tr>\n",
              "    <tr>\n",
              "      <th>mean</th>\n",
              "      <td>0.504636</td>\n",
              "      <td>0.162316</td>\n",
              "      <td>0.482955</td>\n",
              "      <td>0.298959</td>\n",
              "      <td>0.442628</td>\n",
              "      <td>0.903295</td>\n",
              "      <td>0.422051</td>\n",
              "      <td>1.224076</td>\n",
              "      <td>0.719298</td>\n",
              "      <td>0.77735</td>\n",
              "      <td>0.776351</td>\n",
              "      <td>0.722579</td>\n",
              "      <td>0.816574</td>\n",
              "      <td>0.820996</td>\n",
              "      <td>0.68906</td>\n",
              "      <td>0.592212</td>\n",
              "      <td>1.573242</td>\n",
              "      <td>0.463171</td>\n",
              "      <td>0.261346</td>\n",
              "      <td>0.265868</td>\n",
              "    </tr>\n",
              "    <tr>\n",
              "      <th>std</th>\n",
              "      <td>0.500014</td>\n",
              "      <td>0.368767</td>\n",
              "      <td>0.499745</td>\n",
              "      <td>0.457834</td>\n",
              "      <td>0.345674</td>\n",
              "      <td>0.295577</td>\n",
              "      <td>0.493922</td>\n",
              "      <td>0.778727</td>\n",
              "      <td>0.796531</td>\n",
              "      <td>0.77822</td>\n",
              "      <td>0.778575</td>\n",
              "      <td>0.795621</td>\n",
              "      <td>0.763104</td>\n",
              "      <td>0.761254</td>\n",
              "      <td>0.83317</td>\n",
              "      <td>0.491458</td>\n",
              "      <td>1.067423</td>\n",
              "      <td>0.299443</td>\n",
              "      <td>0.261560</td>\n",
              "      <td>0.441826</td>\n",
              "    </tr>\n",
              "    <tr>\n",
              "      <th>min</th>\n",
              "      <td>0.000000</td>\n",
              "      <td>0.000000</td>\n",
              "      <td>0.000000</td>\n",
              "      <td>0.000000</td>\n",
              "      <td>0.000000</td>\n",
              "      <td>0.000000</td>\n",
              "      <td>0.000000</td>\n",
              "      <td>0.000000</td>\n",
              "      <td>0.000000</td>\n",
              "      <td>0.00000</td>\n",
              "      <td>0.000000</td>\n",
              "      <td>0.000000</td>\n",
              "      <td>0.000000</td>\n",
              "      <td>0.000000</td>\n",
              "      <td>0.00000</td>\n",
              "      <td>0.000000</td>\n",
              "      <td>0.000000</td>\n",
              "      <td>0.000000</td>\n",
              "      <td>0.000000</td>\n",
              "      <td>0.000000</td>\n",
              "    </tr>\n",
              "    <tr>\n",
              "      <th>25%</th>\n",
              "      <td>0.000000</td>\n",
              "      <td>0.000000</td>\n",
              "      <td>0.000000</td>\n",
              "      <td>0.000000</td>\n",
              "      <td>0.112676</td>\n",
              "      <td>1.000000</td>\n",
              "      <td>0.000000</td>\n",
              "      <td>1.000000</td>\n",
              "      <td>0.000000</td>\n",
              "      <td>0.00000</td>\n",
              "      <td>0.000000</td>\n",
              "      <td>0.000000</td>\n",
              "      <td>0.000000</td>\n",
              "      <td>0.000000</td>\n",
              "      <td>0.00000</td>\n",
              "      <td>0.000000</td>\n",
              "      <td>1.000000</td>\n",
              "      <td>0.172139</td>\n",
              "      <td>0.044150</td>\n",
              "      <td>0.000000</td>\n",
              "    </tr>\n",
              "    <tr>\n",
              "      <th>50%</th>\n",
              "      <td>1.000000</td>\n",
              "      <td>0.000000</td>\n",
              "      <td>0.000000</td>\n",
              "      <td>0.000000</td>\n",
              "      <td>0.394366</td>\n",
              "      <td>1.000000</td>\n",
              "      <td>0.000000</td>\n",
              "      <td>1.000000</td>\n",
              "      <td>1.000000</td>\n",
              "      <td>1.00000</td>\n",
              "      <td>1.000000</td>\n",
              "      <td>1.000000</td>\n",
              "      <td>1.000000</td>\n",
              "      <td>1.000000</td>\n",
              "      <td>0.00000</td>\n",
              "      <td>1.000000</td>\n",
              "      <td>2.000000</td>\n",
              "      <td>0.518408</td>\n",
              "      <td>0.159070</td>\n",
              "      <td>0.000000</td>\n",
              "    </tr>\n",
              "    <tr>\n",
              "      <th>75%</th>\n",
              "      <td>1.000000</td>\n",
              "      <td>0.000000</td>\n",
              "      <td>1.000000</td>\n",
              "      <td>1.000000</td>\n",
              "      <td>0.760563</td>\n",
              "      <td>1.000000</td>\n",
              "      <td>1.000000</td>\n",
              "      <td>2.000000</td>\n",
              "      <td>1.000000</td>\n",
              "      <td>1.00000</td>\n",
              "      <td>1.000000</td>\n",
              "      <td>1.000000</td>\n",
              "      <td>1.000000</td>\n",
              "      <td>1.000000</td>\n",
              "      <td>1.00000</td>\n",
              "      <td>1.000000</td>\n",
              "      <td>2.000000</td>\n",
              "      <td>0.712935</td>\n",
              "      <td>0.436138</td>\n",
              "      <td>1.000000</td>\n",
              "    </tr>\n",
              "    <tr>\n",
              "      <th>max</th>\n",
              "      <td>1.000000</td>\n",
              "      <td>1.000000</td>\n",
              "      <td>1.000000</td>\n",
              "      <td>1.000000</td>\n",
              "      <td>1.000000</td>\n",
              "      <td>1.000000</td>\n",
              "      <td>1.000000</td>\n",
              "      <td>2.000000</td>\n",
              "      <td>2.000000</td>\n",
              "      <td>2.00000</td>\n",
              "      <td>2.000000</td>\n",
              "      <td>2.000000</td>\n",
              "      <td>2.000000</td>\n",
              "      <td>2.000000</td>\n",
              "      <td>2.00000</td>\n",
              "      <td>1.000000</td>\n",
              "      <td>3.000000</td>\n",
              "      <td>1.000000</td>\n",
              "      <td>1.000000</td>\n",
              "      <td>1.000000</td>\n",
              "    </tr>\n",
              "  </tbody>\n",
              "</table>\n",
              "</div>\n",
              "      <button class=\"colab-df-convert\" onclick=\"convertToInteractive('df-327823ca-e173-43cf-9f70-a29832bd470d')\"\n",
              "              title=\"Convert this dataframe to an interactive table.\"\n",
              "              style=\"display:none;\">\n",
              "        \n",
              "  <svg xmlns=\"http://www.w3.org/2000/svg\" height=\"24px\"viewBox=\"0 0 24 24\"\n",
              "       width=\"24px\">\n",
              "    <path d=\"M0 0h24v24H0V0z\" fill=\"none\"/>\n",
              "    <path d=\"M18.56 5.44l.94 2.06.94-2.06 2.06-.94-2.06-.94-.94-2.06-.94 2.06-2.06.94zm-11 1L8.5 8.5l.94-2.06 2.06-.94-2.06-.94L8.5 2.5l-.94 2.06-2.06.94zm10 10l.94 2.06.94-2.06 2.06-.94-2.06-.94-.94-2.06-.94 2.06-2.06.94z\"/><path d=\"M17.41 7.96l-1.37-1.37c-.4-.4-.92-.59-1.43-.59-.52 0-1.04.2-1.43.59L10.3 9.45l-7.72 7.72c-.78.78-.78 2.05 0 2.83L4 21.41c.39.39.9.59 1.41.59.51 0 1.02-.2 1.41-.59l7.78-7.78 2.81-2.81c.8-.78.8-2.07 0-2.86zM5.41 20L4 18.59l7.72-7.72 1.47 1.35L5.41 20z\"/>\n",
              "  </svg>\n",
              "      </button>\n",
              "      \n",
              "  <style>\n",
              "    .colab-df-container {\n",
              "      display:flex;\n",
              "      flex-wrap:wrap;\n",
              "      gap: 12px;\n",
              "    }\n",
              "\n",
              "    .colab-df-convert {\n",
              "      background-color: #E8F0FE;\n",
              "      border: none;\n",
              "      border-radius: 50%;\n",
              "      cursor: pointer;\n",
              "      display: none;\n",
              "      fill: #1967D2;\n",
              "      height: 32px;\n",
              "      padding: 0 0 0 0;\n",
              "      width: 32px;\n",
              "    }\n",
              "\n",
              "    .colab-df-convert:hover {\n",
              "      background-color: #E2EBFA;\n",
              "      box-shadow: 0px 1px 2px rgba(60, 64, 67, 0.3), 0px 1px 3px 1px rgba(60, 64, 67, 0.15);\n",
              "      fill: #174EA6;\n",
              "    }\n",
              "\n",
              "    [theme=dark] .colab-df-convert {\n",
              "      background-color: #3B4455;\n",
              "      fill: #D2E3FC;\n",
              "    }\n",
              "\n",
              "    [theme=dark] .colab-df-convert:hover {\n",
              "      background-color: #434B5C;\n",
              "      box-shadow: 0px 1px 3px 1px rgba(0, 0, 0, 0.15);\n",
              "      filter: drop-shadow(0px 1px 2px rgba(0, 0, 0, 0.3));\n",
              "      fill: #FFFFFF;\n",
              "    }\n",
              "  </style>\n",
              "\n",
              "      <script>\n",
              "        const buttonEl =\n",
              "          document.querySelector('#df-327823ca-e173-43cf-9f70-a29832bd470d button.colab-df-convert');\n",
              "        buttonEl.style.display =\n",
              "          google.colab.kernel.accessAllowed ? 'block' : 'none';\n",
              "\n",
              "        async function convertToInteractive(key) {\n",
              "          const element = document.querySelector('#df-327823ca-e173-43cf-9f70-a29832bd470d');\n",
              "          const dataTable =\n",
              "            await google.colab.kernel.invokeFunction('convertToInteractive',\n",
              "                                                     [key], {});\n",
              "          if (!dataTable) return;\n",
              "\n",
              "          const docLinkHtml = 'Like what you see? Visit the ' +\n",
              "            '<a target=\"_blank\" href=https://colab.research.google.com/notebooks/data_table.ipynb>data table notebook</a>'\n",
              "            + ' to learn more about interactive tables.';\n",
              "          element.innerHTML = '';\n",
              "          dataTable['output_type'] = 'display_data';\n",
              "          await google.colab.output.renderOutput(dataTable, element);\n",
              "          const docLink = document.createElement('div');\n",
              "          docLink.innerHTML = docLinkHtml;\n",
              "          element.appendChild(docLink);\n",
              "        }\n",
              "      </script>\n",
              "    </div>\n",
              "  </div>\n",
              "  "
            ]
          },
          "metadata": {},
          "execution_count": 238
        }
      ]
    },
    {
      "cell_type": "markdown",
      "source": [
        "Averiguamos se há valores nulos que são precisos de ser tratados. "
      ],
      "metadata": {
        "id": "lnKlq6aeY-5V"
      }
    },
    {
      "cell_type": "code",
      "source": [
        "df.info()\n"
      ],
      "metadata": {
        "id": "8ob25fPrY1Oa",
        "colab": {
          "base_uri": "https://localhost:8080/"
        },
        "outputId": "a7440142-240d-4bb4-9644-db3a0c0312c1"
      },
      "execution_count": 223,
      "outputs": [
        {
          "output_type": "stream",
          "name": "stdout",
          "text": [
            "<class 'pandas.core.frame.DataFrame'>\n",
            "RangeIndex: 7011 entries, 0 to 7010\n",
            "Data columns (total 21 columns):\n",
            " #   Column            Non-Null Count  Dtype  \n",
            "---  ------            --------------  -----  \n",
            " 0   customerID        7011 non-null   object \n",
            " 1   gender            7011 non-null   int64  \n",
            " 2   SeniorCitizen     7011 non-null   int64  \n",
            " 3   Partner           7011 non-null   int64  \n",
            " 4   Dependents        7011 non-null   int64  \n",
            " 5   Tenure            7011 non-null   int64  \n",
            " 6   PhoneService      7011 non-null   int64  \n",
            " 7   MultipleLines     7011 non-null   int64  \n",
            " 8   InternetService   7011 non-null   int64  \n",
            " 9   OnlineSecurity    7011 non-null   int64  \n",
            " 10  OnlineBackup      7011 non-null   int64  \n",
            " 11  DeviceProtection  7011 non-null   int64  \n",
            " 12  TechSupport       7011 non-null   int64  \n",
            " 13  StreamingTV       7011 non-null   int64  \n",
            " 14  StreamingMovies   7011 non-null   int64  \n",
            " 15  Contract          7011 non-null   int64  \n",
            " 16  PaperlessBilling  7011 non-null   int64  \n",
            " 17  PaymentMethod     7011 non-null   int64  \n",
            " 18  MonthlyCharges    7011 non-null   float64\n",
            " 19  TotalCharges      7011 non-null   float64\n",
            " 20  Churn             7011 non-null   int64  \n",
            "dtypes: float64(2), int64(18), object(1)\n",
            "memory usage: 1.1+ MB\n"
          ]
        }
      ]
    },
    {
      "cell_type": "markdown",
      "source": [
        "Podemos concluir que não há null values e que todas as colunas são bem detetadas"
      ],
      "metadata": {
        "id": "YCRFNFeBklRL"
      }
    },
    {
      "cell_type": "markdown",
      "source": [
        "\n",
        "\n",
        "Guardamos as colunas exceto a de customerID, que não afeta os dados"
      ],
      "metadata": {
        "id": "SjI2aXQvlWPw"
      }
    },
    {
      "cell_type": "markdown",
      "source": [
        "**(1) Informações Demográficas**\n",
        "\n",
        "\n",
        "* gender: Se o cliente é do sexo feminino ou masculino (female, male).\n",
        "* SeniorCitizen: Se o cliente é idoso ou não ( 0, 1).\n",
        "* Partner: Se o cliente tem parceiro ou não (Yes, No).\n",
        "* Dependents: Se o cliente tem dependentes ou não (Yes, No).\n",
        "\n",
        "\n",
        "**(2) Informações sobre a conta do cliente**\n",
        "\n",
        "* tenure: número de meses que o cliente permaneceu na empresa (vários valores numéricos diferentes).\n",
        "* Contract: Indica o tipo de contrato atual do cliente (Month to month, one year, two years).\n",
        "* PaperlessBilling: Se o cliente tem faturamento sem papel ou não (Yes, No)\n",
        "* PaymentMethod: Método de pagamento do cliente (Electronic check, Mailed check, Bank transfer (automatic), Credit Card (automatic)).\n",
        "* MontlyCharges: O valor cobrado do cliente mensalmente (vários valores numéricos diferentes).\n",
        "* TotalCharges: O valor total cobrado do cliente (vários valores numéricos diferentes).\n",
        "\n",
        "\n",
        "**(3) Informações de Serviços**\n",
        "\n",
        "\n",
        "* PhoneService: Se o cliente tem ou não serviço telefônico (Sim, Não).\n",
        "* MultipleLines: Se o cliente tem várias linhas ou não (Sem serviço telefônico, No, Yes).\n",
        "* InternetSevices: Se o cliente é assinante do serviço de Internet com a empresa (DSL, Fibra óptica, No)\n",
        "* Segurança Online: Se o cliente tem segurança online ou não (Sem serviço de internet, No, Yes).\n",
        "*   OnlineBackup: Se o cliente tem backup online ou não (Sem serviço de internet, No, Yes).\n",
        "* DeviceProtection: Se o cliente tem proteção de dispositivo ou não (Sem serviço de internet, No, Yes).\n",
        "\n",
        "* TechSupport: Se o cliente tem suporte técnico ou não (Sem serviço de internet, No, Yes).\n",
        "* StreamingTV: Se o cliente tem streaming de TV ou não (Sem serviço de internet, No, Yes).\n",
        "\n",
        "\n",
        "* StreamingMovies: Se o cliente tem streaming de filmes ou não (Sem serviço de internet, No, Yes).\n",
        "\n",
        "\n"
      ],
      "metadata": {
        "id": "ZJZyrBGdudVf"
      }
    },
    {
      "cell_type": "code",
      "source": [
        "# create a figure\n",
        "fig = plt.figure(figsize=(10, 6)) \n",
        "ax = fig.add_subplot(111)\n",
        "\n",
        "# proportion of observation of each class\n",
        "prop_response = df['Churn'].value_counts(normalize=True)*100\n",
        "\n",
        "# create a bar plot showing the percentage of churn\n",
        "prop_response.plot(kind='bar', \n",
        "                   ax=ax,\n",
        "                   color=['blue','red'])\n",
        "\n",
        "# set title and labels\n",
        "ax.set_title('Distribuição do churn',\n",
        "             fontsize=18, loc='left')\n",
        "ax.set_xlabel('churn',\n",
        "              fontsize=14)\n",
        "ax.set_ylabel('percentagem de clientes (%)',\n",
        "              fontsize=14)\n",
        "ax.tick_params(rotation='auto')\n",
        "\n",
        "# eliminate the frame from the plot\n",
        "spine_names = ('top', 'right', 'bottom', 'left')\n",
        "for spine_name in spine_names:\n",
        "    ax.spines[spine_name].set_visible(False)"
      ],
      "metadata": {
        "id": "zH2caUDouCBT",
        "colab": {
          "base_uri": "https://localhost:8080/",
          "height": 412
        },
        "outputId": "99e5c885-ba6d-4876-88c7-32fd658d4fb4"
      },
      "execution_count": 224,
      "outputs": [
        {
          "output_type": "display_data",
          "data": {
            "text/plain": [
              "<Figure size 720x432 with 1 Axes>"
            ],
            "image/png": "[encoded data removed]"
          },
          "metadata": {
            "needs_background": "light"
          }
        }
      ]
    },
    {
      "cell_type": "code",
      "source": [
        "def percentage_stacked_plot(columns_to_plot, super_title):\n",
        "    \n",
        "    '''\n",
        "    Prints a 100% stacked plot of the response variable for independent variable of the list columns_to_plot.\n",
        "            Parameters:\n",
        "                    columns_to_plot (list of string): Names of the variables to plot\n",
        "                    super_title (string): Super title of the visualization\n",
        "            Returns:\n",
        "                    None\n",
        "    '''\n",
        "    \n",
        "    number_of_columns = 2\n",
        "    number_of_rows = math.ceil(len(columns_to_plot)/2)\n",
        "\n",
        "    # create a figure\n",
        "    fig = plt.figure(figsize=(12, 5 * number_of_rows)) \n",
        "    fig.suptitle(super_title, fontsize=22,  y=.95)\n",
        " \n",
        "\n",
        "    # loop to each column name to create a subplot\n",
        "    for index, column in enumerate(columns_to_plot, 1):\n",
        "\n",
        "        # create the subplot\n",
        "        ax = fig.add_subplot(number_of_rows, number_of_columns, index)\n",
        "\n",
        "        # calculate the percentage of observations of the response variable for each group of the independent variable\n",
        "        # 100% stacked bar plot\n",
        "        prop_by_independent = pd.crosstab(df[column], df_aux['Churn']).apply(lambda x: x/x.sum()*100, axis=1)\n",
        "\n",
        "        prop_by_independent.plot(kind='bar', ax=ax, stacked=False,\n",
        "                                 rot=0, color=['blue','red'])\n",
        "\n",
        "        # set the legend in the upper right corner\n",
        "        ax.legend(loc=\"upper right\", bbox_to_anchor=(0.62, 0.5, 0.5, 0.5),\n",
        "                  title='Churn', fancybox=True)\n",
        "\n",
        "        # set title and labels\n",
        "        ax.set_title( column,\n",
        "                     fontsize=16, loc='left')\n",
        "\n",
        "        ax.tick_params(rotation='auto')\n",
        "\n",
        "        # eliminate the frame from the plot\n",
        "        spine_names = ('top', 'right', 'bottom', 'left')\n",
        "        for spine_name in spine_names:\n",
        "            ax.spines[spine_name].set_visible(False)"
      ],
      "metadata": {
        "id": "uNk9L5S6DQzx"
      },
      "execution_count": 225,
      "outputs": []
    },
    {
      "cell_type": "markdown",
      "source": [
        "# Análise de Dados em relação a Dados Demográficos (gender, SeniorCitizen,Partner, Dependents)"
      ],
      "metadata": {
        "id": "_Ub-ySFGDheI"
      }
    },
    {
      "cell_type": "code",
      "source": [
        "demographic_columns = ['gender', 'SeniorCitizen', 'Partner', 'Dependents']\n",
        "\n",
        "# stacked plot of demographic columns\n",
        "percentage_stacked_plot(demographic_columns, '')"
      ],
      "metadata": {
        "colab": {
          "base_uri": "https://localhost:8080/",
          "height": 565
        },
        "id": "vQIn-gCRu7ld",
        "outputId": "45100aa4-43b7-4acc-ef9f-7efbfd397ded"
      },
      "execution_count": 226,
      "outputs": [
        {
          "output_type": "display_data",
          "data": {
            "text/plain": [
              "<Figure size 864x720 with 4 Axes>"
            ],
            "image/png": "[encoded data removed]"
          },
          "metadata": {
            "needs_background": "light"
          }
        }
      ]
    },
    {
      "cell_type": "markdown",
      "source": [
        "# **Conclusões - Dados Demográficos**\n",
        "Podemos conlcuir a partir destas informações demográficas que:\n",
        "\n",
        "\n",
        "*   **Cidadãos séniores** têm quase o dobro do **Churn** do que cidadãos jovens\n",
        "*   **Género** não é uma variável importante ao analisar a variação de **Churn**\n",
        "* **Clientes com dependentes** apresentam um **Churn** mais baixo\n",
        "*  **Clientes com um parceiro** apresentam um **Churn** mais baixo\n",
        "\n"
      ],
      "metadata": {
        "id": "aLeJIyVF06HG"
      }
    },
    {
      "cell_type": "markdown",
      "source": [
        "# Análise em relação a Dados da Contas (Contract, PaperlessBiling, PaymentMethod)"
      ],
      "metadata": {
        "id": "7kooO0215LUj"
      }
    },
    {
      "cell_type": "code",
      "source": [
        "# customer account column names\n",
        "account_columns = ['Contract', 'PaperlessBilling', 'PaymentMethod']\n",
        "\n",
        "# stacked plot of customer account columns\n",
        "percentage_stacked_plot(account_columns, '')"
      ],
      "metadata": {
        "id": "XTdE4nPK5UKz",
        "outputId": "e3f3b59f-ee3c-4478-8cea-f2fa6ece0bb0",
        "colab": {
          "base_uri": "https://localhost:8080/",
          "height": 561
        }
      },
      "execution_count": 227,
      "outputs": [
        {
          "output_type": "display_data",
          "data": {
            "text/plain": [
              "<Figure size 864x720 with 3 Axes>"
            ],
            "image/png": "[encoded data removed]"
          },
          "metadata": {
            "needs_background": "light"
          }
        }
      ]
    },
    {
      "cell_type": "markdown",
      "source": [
        "# **Conclusões - Dados de Conta**\n",
        "\n",
        "\n",
        "\n",
        "*   Quanto maior o tempo de contrato menor é o **Churn**\n",
        "*   Clientes que optam por pagar com cheque eletrónico (2) têm um **Churn** maior relativamente aos outros métodos\n",
        "* Clientes com Paperless Building têm **Churn** maior\n",
        "\n"
      ],
      "metadata": {
        "id": "nneqoEs1--FB"
      }
    },
    {
      "cell_type": "markdown",
      "source": [
        "# Análise de Dados em relação a **Informações de Serviços** "
      ],
      "metadata": {
        "id": "KzKx6wu7EXPe"
      }
    },
    {
      "cell_type": "code",
      "source": [
        "# services column names\n",
        "services_columns = ['PhoneService', 'MultipleLines', 'InternetService', 'OnlineSecurity',\n",
        "                   'OnlineBackup', 'DeviceProtection', 'TechSupport', 'StreamingTV', 'StreamingMovies']\n",
        "\n",
        "# stacked plot of services columns\n",
        "percentage_stacked_plot(services_columns, 'Services Information')"
      ],
      "metadata": {
        "id": "rlBxn4FyE9Mk",
        "outputId": "ac5afd00-fd42-4b3e-f28a-df719423d553",
        "colab": {
          "base_uri": "https://localhost:8080/",
          "height": 1000
        }
      },
      "execution_count": 228,
      "outputs": [
        {
          "output_type": "display_data",
          "data": {
            "text/plain": [
              "<Figure size 864x1800 with 9 Axes>"
            ],
            "image/png": "[encoded data removed]"
          },
          "metadata": {
            "needs_background": "light"
          }
        }
      ]
    },
    {
      "cell_type": "markdown",
      "source": [
        "# Conlusões - **Informações de Serviço**\n",
        "\n",
        "INserir conclusoes"
      ],
      "metadata": {
        "id": "Qh2VlQdFFELJ"
      }
    },
    {
      "cell_type": "markdown",
      "source": [
        "# Normalização"
      ],
      "metadata": {
        "id": "P_rFWRgqr2Ae"
      }
    },
    {
      "cell_type": "code",
      "source": [
        "min_max_columns = ['Tenure', 'MonthlyCharges', 'TotalCharges']\n",
        "\n",
        "\n",
        "for column in min_max_columns:\n",
        "        # minimum value of the column\n",
        "        min_column = df[column].min()\n",
        "        # maximum value of the column\n",
        "        max_column = df[column].max()\n",
        "        # min max scaler\n",
        "        df[column] = (df[column] - min_column) / (max_column - min_column)   "
      ],
      "metadata": {
        "id": "Xmi7Pv6btBrq"
      },
      "execution_count": 229,
      "outputs": []
    },
    {
      "cell_type": "markdown",
      "source": [
        "# Selecionamos os features importantes\n",
        "Removemos o **'customerID'** pois serve só como identificação de cada utilizador e não afeta o **churn**."
      ],
      "metadata": {
        "id": "IBxbFq_Wt5Vq"
      }
    },
    {
      "cell_type": "code",
      "source": [
        "features=['gender','SeniorCitizen','Partner','Dependents','Tenure','PhoneService','MultipleLines','InternetService','OnlineSecurity','OnlineBackup','DeviceProtection','TechSupport','StreamingTV','StreamingMovies','Contract','PaperlessBilling','PaymentMethod','MonthlyCharges','TotalCharges']"
      ],
      "metadata": {
        "id": "9_TwzQd1lvv0"
      },
      "execution_count": 230,
      "outputs": []
    },
    {
      "cell_type": "markdown",
      "source": [
        "Criamos duas variáveis com os inputs e as labels"
      ],
      "metadata": {
        "id": "nkjQfjr1wYtS"
      }
    },
    {
      "cell_type": "code",
      "source": [
        "x = df.loc[:,features]\n",
        "y=df.loc[:,['Churn']]\n"
      ],
      "metadata": {
        "id": "rl9MfZUxwsy1"
      },
      "execution_count": 231,
      "outputs": []
    },
    {
      "cell_type": "markdown",
      "source": [
        "Usamos o *train_test_split* para dividir a base de dados "
      ],
      "metadata": {
        "id": "N7HJf09xwysG"
      }
    },
    {
      "cell_type": "code",
      "source": [
        "\n",
        "X_train, X_test, y_train, y_test = train_test_split(x, y, train_size = .75)\n"
      ],
      "metadata": {
        "id": "LPvpKNmPww6q"
      },
      "execution_count": 232,
      "outputs": []
    },
    {
      "cell_type": "markdown",
      "source": [
        "# Treinamos com vários classificadores"
      ],
      "metadata": {
        "id": "2gic0khN7RW8"
      }
    },
    {
      "cell_type": "markdown",
      "source": [
        "# Decision Tree Classifier"
      ],
      "metadata": {
        "id": "tkPpw_re-kSI"
      }
    },
    {
      "cell_type": "code",
      "execution_count": 233,
      "metadata": {
        "id": "B0eij7EcnaaV"
      },
      "outputs": [],
      "source": [
        "results = []\n",
        "names = []\n",
        "\n",
        "classifier = tree.DecisionTreeClassifier(criterion='entropy')\n",
        "#classifier = tree.DecisionTreeClassifier(criterion='entropy',random_state=0)\n",
        "\n",
        "\n",
        "classifier.fit(X_train,y_train)\n",
        "\n",
        "dot_data = tree.export_graphviz(classifier, out_file=None, \n",
        "                      feature_names=features,  \n",
        "                      class_names=['False','True'],  \n",
        "                      filled=True, rounded=True,  \n",
        "                      special_characters=True)  \n",
        "\n",
        "\n",
        "prediction = classifier.predict(X_test)\n",
        "  \n",
        "accuracy = accuracy_score(y_test, prediction)\n",
        "\n",
        "results.append(accuracy)\n",
        "names.append('Decision Tree Classifier')\n",
        "\n"
      ]
    },
    {
      "cell_type": "markdown",
      "source": [
        "# Nearest Neighbor"
      ],
      "metadata": {
        "id": "lnIBAQXY-rbH"
      }
    },
    {
      "cell_type": "code",
      "source": [
        "\n",
        "classifier = KNeighborsClassifier()\n",
        "#classifier = tree.DecisionTreeClassifier(criterion='entropy',random_state=0)\n",
        "\n",
        "\n",
        "classifier.fit(X_train,y_train)\n",
        "\n",
        "\n",
        "\n",
        "prediction = classifier.predict(X_test)\n",
        "  \n",
        "accuracy = accuracy_score(y_test, prediction)\n",
        "\n",
        "results.append(accuracy)\n",
        "names.append('Nearest Neighbor')\n",
        "\n"
      ],
      "metadata": {
        "id": "C6KdqU0D-vUq",
        "outputId": "71c2ff07-8945-4409-d2bd-7b8a9a0b9f39",
        "colab": {
          "base_uri": "https://localhost:8080/"
        }
      },
      "execution_count": 234,
      "outputs": [
        {
          "output_type": "stream",
          "name": "stderr",
          "text": [
            "/usr/local/lib/python3.7/dist-packages/sklearn/neighbors/_classification.py:198: DataConversionWarning: A column-vector y was passed when a 1d array was expected. Please change the shape of y to (n_samples,), for example using ravel().\n",
            "  return self._fit(X, y)\n"
          ]
        }
      ]
    },
    {
      "cell_type": "markdown",
      "source": [
        "## Support Vector Machines"
      ],
      "metadata": {
        "id": "5R-dKdouAjD8"
      }
    },
    {
      "cell_type": "code",
      "source": [
        "\n",
        "classifier = svm.SVC(random_state=2)\n",
        "#classifier = tree.DecisionTreeClassifier(criterion='entropy',random_state=0)\n",
        "\n",
        "\n",
        "classifier.fit(X_train,y_train)\n",
        "\n",
        "\n",
        "\n",
        "prediction = classifier.predict(X_test)\n",
        "  \n",
        "accuracy = accuracy_score(y_test, prediction)\n",
        "\n",
        "results.append(accuracy)\n",
        "names.append('Vector Machines')\n",
        "\n"
      ],
      "metadata": {
        "id": "AwRBsKkCAsiN",
        "outputId": "0fcb87b2-78b6-4d47-a454-aee22be390aa",
        "colab": {
          "base_uri": "https://localhost:8080/"
        }
      },
      "execution_count": 236,
      "outputs": [
        {
          "output_type": "stream",
          "name": "stderr",
          "text": [
            "/usr/local/lib/python3.7/dist-packages/sklearn/utils/validation.py:993: DataConversionWarning: A column-vector y was passed when a 1d array was expected. Please change the shape of y to (n_samples, ), for example using ravel().\n",
            "  y = column_or_1d(y, warn=True)\n"
          ]
        }
      ]
    },
    {
      "cell_type": "markdown",
      "source": [
        "# Valores "
      ],
      "metadata": {
        "id": "8QLaXurlCBMs"
      }
    },
    {
      "cell_type": "code",
      "source": [
        "\n",
        "for name,result in zip(names,results):\n",
        "  \n",
        "    i=0\n",
        "    print('Classifier: {}, Accuracy: {})'.format(name, result))\n",
        "    i+=1\n",
        "\n"
      ],
      "metadata": {
        "id": "Z2SUPRA3CG1A",
        "outputId": "7d1ba5f6-6b64-4484-8696-09244d38f30a",
        "colab": {
          "base_uri": "https://localhost:8080/"
        }
      },
      "execution_count": 250,
      "outputs": [
        {
          "output_type": "stream",
          "name": "stdout",
          "text": [
            "Classifier: Decision Tree Classifier, Accuracy: 0.744438106103822)\n",
            "Classifier: Nearest Neighbor, Accuracy: 0.7752424415288077)\n",
            "Classifier: Vector Machines, Accuracy: 0.8174557900741586)\n"
          ]
        }
      ]
    }
  ]
}