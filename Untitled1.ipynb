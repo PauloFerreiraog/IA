{
  "nbformat": 4,
  "nbformat_minor": 0,
  "metadata": {
    "colab": {
      "name": "Copy of Untitled1.ipynb",
      "provenance": [],
      "collapsed_sections": [],
      "include_colab_link": true
    },
    "kernelspec": {
      "name": "python3",
      "display_name": "Python 3"
    },
    "language_info": {
      "name": "python"
    }
  },
  "cells": [
    {
      "cell_type": "markdown",
      "metadata": {
        "id": "view-in-github",
        "colab_type": "text"
      },
      "source": [
        "<a href=\"https://colab.research.google.com/github/PauloFerreiraog/IA/blob/main/Untitled1.ipynb\" target=\"_parent\"><img src=\"https://colab.research.google.com/assets/colab-badge.svg\" alt=\"Open In Colab\"/></a>"
      ]
    },
    {
      "cell_type": "code",
      "source": [
        "from google.colab import drive\n",
        "drive.mount('/content/drive')"
      ],
      "metadata": {
        "colab": {
          "base_uri": "https://localhost:8080/"
        },
        "id": "t9fvRugj1Ur2",
        "outputId": "b3dfeef2-7c44-43a6-ef86-c4e6eca138c8"
      },
      "execution_count": 45,
      "outputs": [
        {
          "output_type": "stream",
          "name": "stdout",
          "text": [
            "Drive already mounted at /content/drive; to attempt to forcibly remount, call drive.mount(\"/content/drive\", force_remount=True).\n"
          ]
        }
      ]
    },
    {
      "cell_type": "code",
      "source": [
        "%%capture\n",
        "!pip3 install graphviz "
      ],
      "metadata": {
        "id": "abtYlxdg2hSd"
      },
      "execution_count": 46,
      "outputs": []
    },
    {
      "cell_type": "markdown",
      "source": [
        "Importação de Biliotecas necessárias"
      ],
      "metadata": {
        "id": "2FHftwO1wNvq"
      }
    },
    {
      "cell_type": "code",
      "source": [
        "import pandas as pd\n",
        "\n",
        "import seaborn as sns\n",
        "\n",
        "from sklearn.model_selection import train_test_split\n",
        "\n",
        "from sklearn import tree\n",
        "\n",
        "from sklearn.metrics import accuracy_score,classification_report,confusion_matrix\n",
        "\n",
        "import graphviz\n",
        "\n",
        "import matplotlib.pyplot as plt\n",
        "\n",
        "import math\n",
        "\n"
      ],
      "metadata": {
        "id": "LgHIj55rwcHL"
      },
      "execution_count": 47,
      "outputs": []
    },
    {
      "cell_type": "code",
      "source": [
        "df_test = pd.read_csv('/content/drive/MyDrive/IART/WA_Fn-UseC_-Telco-Customer-Churn_R2_Test.csv')\n",
        "df_origin = pd.read_csv('/content/drive/MyDrive/IART/WA_Fn-UseC_-Telco-Customer-Churn_R2.csv')\n",
        "df_aux = df_origin\n",
        "\n",
        "df_aux.loc[df_aux['gender'] == 1, 'gender'] = 'male'\n",
        "df_aux.loc[df_aux['gender'] == 0, 'gender'] = 'female'\n",
        "\n",
        "df_aux.loc[df_aux['SeniorCitizen'] == 1, 'SeniorCitizen'] = 'Senior'\n",
        "df_aux.loc[df_aux['SeniorCitizen'] == 0, 'SeniorCitizen'] = 'Not Senior'\n",
        "\n",
        "\n",
        "df_aux.loc[df_aux['InternetService'] == 0, 'InternetService'] = 'No'\n",
        "df_aux.loc[df_aux['InternetService'] == 1, 'InternetService'] = 'DSL'\n",
        "df_aux.loc[df_aux['InternetService'] == 2, 'InternetService'] = 'Fiber optic'\n",
        "\n",
        "df_aux.loc[df_aux['PaymentMethod'] == 0, 'PaymentMethod'] = 'automatic'\n",
        "df_aux.loc[df_aux['PaymentMethod'] == 1, 'PaymentMethod'] = 'Automatic card'\n",
        "df_aux.loc[df_aux['PaymentMethod'] == 2, 'PaymentMethod'] = 'E-cheque'\n",
        "df_aux.loc[df_aux['PaymentMethod'] == 3, 'PaymentMethod'] = 'Mailed cheque'\n",
        "\n",
        "df_aux.loc[df_aux['PaperlessBilling'] == 0, 'PaperlessBilling'] = 'No'\n",
        "df_aux.loc[df_aux['PaperlessBilling'] == 1, 'PaperlessBilling'] = 'Yes'\n",
        "\n",
        "df_aux.loc[df_aux['Contract'] == 0, 'Contract'] = 'Monthly'\n",
        "df_aux.loc[df_aux['Contract'] == 1, 'Contract'] = 'One Year'\n",
        "df_aux.loc[df_aux['Contract'] == 2, 'Contract'] = 'Two Year'\n",
        "\n",
        "df_aux.loc[df_aux['Dependents'] == 0, 'Dependents'] = 'No'\n",
        "df_aux.loc[df_aux['Dependents'] == 1, 'Dependents'] = 'Yes'\n",
        "\n",
        "df_aux.loc[df_aux['OnlineSecurity'] == 0, 'OnlineSecurity'] = 'No'\n",
        "df_aux.loc[df_aux['OnlineSecurity'] == 1, 'OnlineSecurity'] = 'Yes'\n",
        "df_aux.loc[df_aux['OnlineSecurity'] == 2, 'OnlineSecurity'] = 'NA'\n",
        "\n",
        "df_aux.loc[df_aux['OnlineBackup'] == 0, 'OnlineBackup'] = 'No'\n",
        "df_aux.loc[df_aux['OnlineBackup'] == 1, 'OnlineBackup'] = 'Yes'\n",
        "df_aux.loc[df_aux['OnlineBackup'] == 2, 'OnlineBackup'] = 'NA '\n",
        "\n",
        "df_aux.loc[df_aux['TechSupport'] == 0, 'TechSupport'] = 'No'\n",
        "df_aux.loc[df_aux['TechSupport'] == 1, 'TechSupport'] = 'Yes'\n",
        "df_aux.loc[df_aux['TechSupport'] == 2, 'TechSupport'] = 'NA'\n",
        "\n",
        "df_aux.loc[df_aux['StreamingMovies'] == 0, 'StreamingMovies'] = 'No'\n",
        "df_aux.loc[df_aux['StreamingMovies'] == 1, 'StreamingMovies'] = 'Yes'\n",
        "df_aux.loc[df_aux['StreamingMovies'] == 2, 'StreamingMovies'] = 'NA'\n",
        "\n",
        "df_aux.loc[df_aux['DeviceProtection'] == 0, 'DeviceProtection'] = 'No'\n",
        "df_aux.loc[df_aux['DeviceProtection'] == 1, 'DeviceProtection'] = 'Yes'\n",
        "df_aux.loc[df_aux['DeviceProtection'] == 2, 'DeviceProtection'] = 'NA'\n",
        "\n",
        "\n"
      ],
      "metadata": {
        "id": "2Y4qGkkcUVVt"
      },
      "execution_count": 67,
      "outputs": []
    },
    {
      "cell_type": "markdown",
      "source": [
        "Verificar a data com head() e describe()"
      ],
      "metadata": {
        "id": "BvQfWd6pU5oT"
      }
    },
    {
      "cell_type": "code",
      "source": [
        "df.head()\n",
        "\n"
      ],
      "metadata": {
        "id": "_lRZRh4rU2gG",
        "colab": {
          "base_uri": "https://localhost:8080/",
          "height": 386
        },
        "outputId": "1ebd9b4f-b959-4fd6-b481-e4b880be106a"
      },
      "execution_count": 68,
      "outputs": [
        {
          "output_type": "execute_result",
          "data": {
            "text/plain": [
              "   customerID  gender SeniorCitizen  Partner Dependents  Tenure  PhoneService  \\\n",
              "0  7590-VHVEG  female    Not Senior        1         No       1             0   \n",
              "1  5575-GNVDE    male    Not Senior        0         No      34             1   \n",
              "2  3668-QPYBK    male    Not Senior        0         No       2             1   \n",
              "3  7795-CFOCW    male    Not Senior        0         No      45             0   \n",
              "4  9237-HQITU  female    Not Senior        0         No       2             1   \n",
              "\n",
              "   MultipleLines InternetService OnlineSecurity  ... DeviceProtection  \\\n",
              "0              0             DSL             No  ...               No   \n",
              "1              0             DSL            Yes  ...              Yes   \n",
              "2              0             DSL            Yes  ...               No   \n",
              "3              0             DSL            Yes  ...              Yes   \n",
              "4              0     Fiber optic             No  ...               No   \n",
              "\n",
              "  TechSupport StreamingTV  StreamingMovies  Contract PaperlessBilling  \\\n",
              "0          No           0               No   Monthly              Yes   \n",
              "1          No           0               No  One Year               No   \n",
              "2          No           0               No   Monthly              Yes   \n",
              "3         Yes           0               No  One Year               No   \n",
              "4          No           0               No   Monthly              Yes   \n",
              "\n",
              "   PaymentMethod MonthlyCharges  TotalCharges  Churn  \n",
              "0       E-cheque          29.85         29.85      0  \n",
              "1  Mailed cheque          56.95       1889.50      0  \n",
              "2  Mailed cheque          53.85        108.15      1  \n",
              "3      automatic          42.30       1840.75      0  \n",
              "4       E-cheque          70.70        151.65      1  \n",
              "\n",
              "[5 rows x 21 columns]"
            ],
            "text/html": [
              "\n",
              "  <div id=\"df-505441e5-ea5d-489a-ba3f-a74d28c6ba1c\">\n",
              "    <div class=\"colab-df-container\">\n",
              "      <div>\n",
              "<style scoped>\n",
              "    .dataframe tbody tr th:only-of-type {\n",
              "        vertical-align: middle;\n",
              "    }\n",
              "\n",
              "    .dataframe tbody tr th {\n",
              "        vertical-align: top;\n",
              "    }\n",
              "\n",
              "    .dataframe thead th {\n",
              "        text-align: right;\n",
              "    }\n",
              "</style>\n",
              "<table border=\"1\" class=\"dataframe\">\n",
              "  <thead>\n",
              "    <tr style=\"text-align: right;\">\n",
              "      <th></th>\n",
              "      <th>customerID</th>\n",
              "      <th>gender</th>\n",
              "      <th>SeniorCitizen</th>\n",
              "      <th>Partner</th>\n",
              "      <th>Dependents</th>\n",
              "      <th>Tenure</th>\n",
              "      <th>PhoneService</th>\n",
              "      <th>MultipleLines</th>\n",
              "      <th>InternetService</th>\n",
              "      <th>OnlineSecurity</th>\n",
              "      <th>...</th>\n",
              "      <th>DeviceProtection</th>\n",
              "      <th>TechSupport</th>\n",
              "      <th>StreamingTV</th>\n",
              "      <th>StreamingMovies</th>\n",
              "      <th>Contract</th>\n",
              "      <th>PaperlessBilling</th>\n",
              "      <th>PaymentMethod</th>\n",
              "      <th>MonthlyCharges</th>\n",
              "      <th>TotalCharges</th>\n",
              "      <th>Churn</th>\n",
              "    </tr>\n",
              "  </thead>\n",
              "  <tbody>\n",
              "    <tr>\n",
              "      <th>0</th>\n",
              "      <td>7590-VHVEG</td>\n",
              "      <td>female</td>\n",
              "      <td>Not Senior</td>\n",
              "      <td>1</td>\n",
              "      <td>No</td>\n",
              "      <td>1</td>\n",
              "      <td>0</td>\n",
              "      <td>0</td>\n",
              "      <td>DSL</td>\n",
              "      <td>No</td>\n",
              "      <td>...</td>\n",
              "      <td>No</td>\n",
              "      <td>No</td>\n",
              "      <td>0</td>\n",
              "      <td>No</td>\n",
              "      <td>Monthly</td>\n",
              "      <td>Yes</td>\n",
              "      <td>E-cheque</td>\n",
              "      <td>29.85</td>\n",
              "      <td>29.85</td>\n",
              "      <td>0</td>\n",
              "    </tr>\n",
              "    <tr>\n",
              "      <th>1</th>\n",
              "      <td>5575-GNVDE</td>\n",
              "      <td>male</td>\n",
              "      <td>Not Senior</td>\n",
              "      <td>0</td>\n",
              "      <td>No</td>\n",
              "      <td>34</td>\n",
              "      <td>1</td>\n",
              "      <td>0</td>\n",
              "      <td>DSL</td>\n",
              "      <td>Yes</td>\n",
              "      <td>...</td>\n",
              "      <td>Yes</td>\n",
              "      <td>No</td>\n",
              "      <td>0</td>\n",
              "      <td>No</td>\n",
              "      <td>One Year</td>\n",
              "      <td>No</td>\n",
              "      <td>Mailed cheque</td>\n",
              "      <td>56.95</td>\n",
              "      <td>1889.50</td>\n",
              "      <td>0</td>\n",
              "    </tr>\n",
              "    <tr>\n",
              "      <th>2</th>\n",
              "      <td>3668-QPYBK</td>\n",
              "      <td>male</td>\n",
              "      <td>Not Senior</td>\n",
              "      <td>0</td>\n",
              "      <td>No</td>\n",
              "      <td>2</td>\n",
              "      <td>1</td>\n",
              "      <td>0</td>\n",
              "      <td>DSL</td>\n",
              "      <td>Yes</td>\n",
              "      <td>...</td>\n",
              "      <td>No</td>\n",
              "      <td>No</td>\n",
              "      <td>0</td>\n",
              "      <td>No</td>\n",
              "      <td>Monthly</td>\n",
              "      <td>Yes</td>\n",
              "      <td>Mailed cheque</td>\n",
              "      <td>53.85</td>\n",
              "      <td>108.15</td>\n",
              "      <td>1</td>\n",
              "    </tr>\n",
              "    <tr>\n",
              "      <th>3</th>\n",
              "      <td>7795-CFOCW</td>\n",
              "      <td>male</td>\n",
              "      <td>Not Senior</td>\n",
              "      <td>0</td>\n",
              "      <td>No</td>\n",
              "      <td>45</td>\n",
              "      <td>0</td>\n",
              "      <td>0</td>\n",
              "      <td>DSL</td>\n",
              "      <td>Yes</td>\n",
              "      <td>...</td>\n",
              "      <td>Yes</td>\n",
              "      <td>Yes</td>\n",
              "      <td>0</td>\n",
              "      <td>No</td>\n",
              "      <td>One Year</td>\n",
              "      <td>No</td>\n",
              "      <td>automatic</td>\n",
              "      <td>42.30</td>\n",
              "      <td>1840.75</td>\n",
              "      <td>0</td>\n",
              "    </tr>\n",
              "    <tr>\n",
              "      <th>4</th>\n",
              "      <td>9237-HQITU</td>\n",
              "      <td>female</td>\n",
              "      <td>Not Senior</td>\n",
              "      <td>0</td>\n",
              "      <td>No</td>\n",
              "      <td>2</td>\n",
              "      <td>1</td>\n",
              "      <td>0</td>\n",
              "      <td>Fiber optic</td>\n",
              "      <td>No</td>\n",
              "      <td>...</td>\n",
              "      <td>No</td>\n",
              "      <td>No</td>\n",
              "      <td>0</td>\n",
              "      <td>No</td>\n",
              "      <td>Monthly</td>\n",
              "      <td>Yes</td>\n",
              "      <td>E-cheque</td>\n",
              "      <td>70.70</td>\n",
              "      <td>151.65</td>\n",
              "      <td>1</td>\n",
              "    </tr>\n",
              "  </tbody>\n",
              "</table>\n",
              "<p>5 rows × 21 columns</p>\n",
              "</div>\n",
              "      <button class=\"colab-df-convert\" onclick=\"convertToInteractive('df-505441e5-ea5d-489a-ba3f-a74d28c6ba1c')\"\n",
              "              title=\"Convert this dataframe to an interactive table.\"\n",
              "              style=\"display:none;\">\n",
              "        \n",
              "  <svg xmlns=\"http://www.w3.org/2000/svg\" height=\"24px\"viewBox=\"0 0 24 24\"\n",
              "       width=\"24px\">\n",
              "    <path d=\"M0 0h24v24H0V0z\" fill=\"none\"/>\n",
              "    <path d=\"M18.56 5.44l.94 2.06.94-2.06 2.06-.94-2.06-.94-.94-2.06-.94 2.06-2.06.94zm-11 1L8.5 8.5l.94-2.06 2.06-.94-2.06-.94L8.5 2.5l-.94 2.06-2.06.94zm10 10l.94 2.06.94-2.06 2.06-.94-2.06-.94-.94-2.06-.94 2.06-2.06.94z\"/><path d=\"M17.41 7.96l-1.37-1.37c-.4-.4-.92-.59-1.43-.59-.52 0-1.04.2-1.43.59L10.3 9.45l-7.72 7.72c-.78.78-.78 2.05 0 2.83L4 21.41c.39.39.9.59 1.41.59.51 0 1.02-.2 1.41-.59l7.78-7.78 2.81-2.81c.8-.78.8-2.07 0-2.86zM5.41 20L4 18.59l7.72-7.72 1.47 1.35L5.41 20z\"/>\n",
              "  </svg>\n",
              "      </button>\n",
              "      \n",
              "  <style>\n",
              "    .colab-df-container {\n",
              "      display:flex;\n",
              "      flex-wrap:wrap;\n",
              "      gap: 12px;\n",
              "    }\n",
              "\n",
              "    .colab-df-convert {\n",
              "      background-color: #E8F0FE;\n",
              "      border: none;\n",
              "      border-radius: 50%;\n",
              "      cursor: pointer;\n",
              "      display: none;\n",
              "      fill: #1967D2;\n",
              "      height: 32px;\n",
              "      padding: 0 0 0 0;\n",
              "      width: 32px;\n",
              "    }\n",
              "\n",
              "    .colab-df-convert:hover {\n",
              "      background-color: #E2EBFA;\n",
              "      box-shadow: 0px 1px 2px rgba(60, 64, 67, 0.3), 0px 1px 3px 1px rgba(60, 64, 67, 0.15);\n",
              "      fill: #174EA6;\n",
              "    }\n",
              "\n",
              "    [theme=dark] .colab-df-convert {\n",
              "      background-color: #3B4455;\n",
              "      fill: #D2E3FC;\n",
              "    }\n",
              "\n",
              "    [theme=dark] .colab-df-convert:hover {\n",
              "      background-color: #434B5C;\n",
              "      box-shadow: 0px 1px 3px 1px rgba(0, 0, 0, 0.15);\n",
              "      filter: drop-shadow(0px 1px 2px rgba(0, 0, 0, 0.3));\n",
              "      fill: #FFFFFF;\n",
              "    }\n",
              "  </style>\n",
              "\n",
              "      <script>\n",
              "        const buttonEl =\n",
              "          document.querySelector('#df-505441e5-ea5d-489a-ba3f-a74d28c6ba1c button.colab-df-convert');\n",
              "        buttonEl.style.display =\n",
              "          google.colab.kernel.accessAllowed ? 'block' : 'none';\n",
              "\n",
              "        async function convertToInteractive(key) {\n",
              "          const element = document.querySelector('#df-505441e5-ea5d-489a-ba3f-a74d28c6ba1c');\n",
              "          const dataTable =\n",
              "            await google.colab.kernel.invokeFunction('convertToInteractive',\n",
              "                                                     [key], {});\n",
              "          if (!dataTable) return;\n",
              "\n",
              "          const docLinkHtml = 'Like what you see? Visit the ' +\n",
              "            '<a target=\"_blank\" href=https://colab.research.google.com/notebooks/data_table.ipynb>data table notebook</a>'\n",
              "            + ' to learn more about interactive tables.';\n",
              "          element.innerHTML = '';\n",
              "          dataTable['output_type'] = 'display_data';\n",
              "          await google.colab.output.renderOutput(dataTable, element);\n",
              "          const docLink = document.createElement('div');\n",
              "          docLink.innerHTML = docLinkHtml;\n",
              "          element.appendChild(docLink);\n",
              "        }\n",
              "      </script>\n",
              "    </div>\n",
              "  </div>\n",
              "  "
            ]
          },
          "metadata": {},
          "execution_count": 68
        }
      ]
    },
    {
      "cell_type": "code",
      "source": [
        "df_test.describe()"
      ],
      "metadata": {
        "id": "t02m6Rj9W45D",
        "colab": {
          "base_uri": "https://localhost:8080/",
          "height": 364
        },
        "outputId": "1232ca20-e70a-4005-dee3-d5c3e6a4c094"
      },
      "execution_count": 50,
      "outputs": [
        {
          "output_type": "execute_result",
          "data": {
            "text/plain": [
              "          gender  SeniorCitizen    Partner  Dependents     Tenure  \\\n",
              "count  21.000000      21.000000  21.000000   21.000000  21.000000   \n",
              "mean    0.523810       0.190476   0.333333    0.142857  30.809524   \n",
              "std     0.511766       0.402374   0.483046    0.358569  25.910652   \n",
              "min     0.000000       0.000000   0.000000    0.000000   1.000000   \n",
              "25%     0.000000       0.000000   0.000000    0.000000  12.000000   \n",
              "50%     1.000000       0.000000   0.000000    0.000000  19.000000   \n",
              "75%     1.000000       0.000000   1.000000    0.000000  55.000000   \n",
              "max     1.000000       1.000000   1.000000    1.000000  72.000000   \n",
              "\n",
              "       PhoneService  MultipleLines  InternetService  OnlineSecurity  \\\n",
              "count     21.000000      21.000000        21.000000       21.000000   \n",
              "mean       0.904762       0.380952         1.238095        0.571429   \n",
              "std        0.300793       0.497613         0.768424        0.810643   \n",
              "min        0.000000       0.000000         0.000000        0.000000   \n",
              "25%        1.000000       0.000000         1.000000        0.000000   \n",
              "50%        1.000000       0.000000         1.000000        0.000000   \n",
              "75%        1.000000       1.000000         2.000000        1.000000   \n",
              "max        1.000000       1.000000         2.000000        2.000000   \n",
              "\n",
              "       OnlineBackup  DeviceProtection  TechSupport  StreamingTV  \\\n",
              "count     21.000000         21.000000    21.000000    21.000000   \n",
              "mean       0.714286          0.714286     0.666667     0.857143   \n",
              "std        0.783764          0.783764     0.795822     0.727029   \n",
              "min        0.000000          0.000000     0.000000     0.000000   \n",
              "25%        0.000000          0.000000     0.000000     0.000000   \n",
              "50%        1.000000          1.000000     0.000000     1.000000   \n",
              "75%        1.000000          1.000000     1.000000     1.000000   \n",
              "max        2.000000          2.000000     2.000000     2.000000   \n",
              "\n",
              "       StreamingMovies   Contract  PaperlessBilling  PaymentMethod  \\\n",
              "count        21.000000  21.000000         21.000000      21.000000   \n",
              "mean          0.714286   0.523810          0.761905       1.571429   \n",
              "std           0.783764   0.749603          0.436436       1.121224   \n",
              "min           0.000000   0.000000          0.000000       0.000000   \n",
              "25%           0.000000   0.000000          1.000000       1.000000   \n",
              "50%           1.000000   0.000000          1.000000       2.000000   \n",
              "75%           1.000000   1.000000          1.000000       2.000000   \n",
              "max           2.000000   2.000000          1.000000       3.000000   \n",
              "\n",
              "       MonthlyCharges  TotalCharges      Churn  \n",
              "count       21.000000     21.000000  21.000000  \n",
              "mean        64.652381   2176.571429   0.238095  \n",
              "std         27.936900   2351.107515   0.436436  \n",
              "min         19.200000     39.250000   0.000000  \n",
              "25%         44.400000    403.350000   0.000000  \n",
              "50%         69.500000   1419.400000   0.000000  \n",
              "75%         84.800000   3316.100000   0.000000  \n",
              "max        104.950000   7544.300000   1.000000  "
            ],
            "text/html": [
              "\n",
              "  <div id=\"df-98fd9e63-1d19-477e-9420-2bfbe1e0b070\">\n",
              "    <div class=\"colab-df-container\">\n",
              "      <div>\n",
              "<style scoped>\n",
              "    .dataframe tbody tr th:only-of-type {\n",
              "        vertical-align: middle;\n",
              "    }\n",
              "\n",
              "    .dataframe tbody tr th {\n",
              "        vertical-align: top;\n",
              "    }\n",
              "\n",
              "    .dataframe thead th {\n",
              "        text-align: right;\n",
              "    }\n",
              "</style>\n",
              "<table border=\"1\" class=\"dataframe\">\n",
              "  <thead>\n",
              "    <tr style=\"text-align: right;\">\n",
              "      <th></th>\n",
              "      <th>gender</th>\n",
              "      <th>SeniorCitizen</th>\n",
              "      <th>Partner</th>\n",
              "      <th>Dependents</th>\n",
              "      <th>Tenure</th>\n",
              "      <th>PhoneService</th>\n",
              "      <th>MultipleLines</th>\n",
              "      <th>InternetService</th>\n",
              "      <th>OnlineSecurity</th>\n",
              "      <th>OnlineBackup</th>\n",
              "      <th>DeviceProtection</th>\n",
              "      <th>TechSupport</th>\n",
              "      <th>StreamingTV</th>\n",
              "      <th>StreamingMovies</th>\n",
              "      <th>Contract</th>\n",
              "      <th>PaperlessBilling</th>\n",
              "      <th>PaymentMethod</th>\n",
              "      <th>MonthlyCharges</th>\n",
              "      <th>TotalCharges</th>\n",
              "      <th>Churn</th>\n",
              "    </tr>\n",
              "  </thead>\n",
              "  <tbody>\n",
              "    <tr>\n",
              "      <th>count</th>\n",
              "      <td>21.000000</td>\n",
              "      <td>21.000000</td>\n",
              "      <td>21.000000</td>\n",
              "      <td>21.000000</td>\n",
              "      <td>21.000000</td>\n",
              "      <td>21.000000</td>\n",
              "      <td>21.000000</td>\n",
              "      <td>21.000000</td>\n",
              "      <td>21.000000</td>\n",
              "      <td>21.000000</td>\n",
              "      <td>21.000000</td>\n",
              "      <td>21.000000</td>\n",
              "      <td>21.000000</td>\n",
              "      <td>21.000000</td>\n",
              "      <td>21.000000</td>\n",
              "      <td>21.000000</td>\n",
              "      <td>21.000000</td>\n",
              "      <td>21.000000</td>\n",
              "      <td>21.000000</td>\n",
              "      <td>21.000000</td>\n",
              "    </tr>\n",
              "    <tr>\n",
              "      <th>mean</th>\n",
              "      <td>0.523810</td>\n",
              "      <td>0.190476</td>\n",
              "      <td>0.333333</td>\n",
              "      <td>0.142857</td>\n",
              "      <td>30.809524</td>\n",
              "      <td>0.904762</td>\n",
              "      <td>0.380952</td>\n",
              "      <td>1.238095</td>\n",
              "      <td>0.571429</td>\n",
              "      <td>0.714286</td>\n",
              "      <td>0.714286</td>\n",
              "      <td>0.666667</td>\n",
              "      <td>0.857143</td>\n",
              "      <td>0.714286</td>\n",
              "      <td>0.523810</td>\n",
              "      <td>0.761905</td>\n",
              "      <td>1.571429</td>\n",
              "      <td>64.652381</td>\n",
              "      <td>2176.571429</td>\n",
              "      <td>0.238095</td>\n",
              "    </tr>\n",
              "    <tr>\n",
              "      <th>std</th>\n",
              "      <td>0.511766</td>\n",
              "      <td>0.402374</td>\n",
              "      <td>0.483046</td>\n",
              "      <td>0.358569</td>\n",
              "      <td>25.910652</td>\n",
              "      <td>0.300793</td>\n",
              "      <td>0.497613</td>\n",
              "      <td>0.768424</td>\n",
              "      <td>0.810643</td>\n",
              "      <td>0.783764</td>\n",
              "      <td>0.783764</td>\n",
              "      <td>0.795822</td>\n",
              "      <td>0.727029</td>\n",
              "      <td>0.783764</td>\n",
              "      <td>0.749603</td>\n",
              "      <td>0.436436</td>\n",
              "      <td>1.121224</td>\n",
              "      <td>27.936900</td>\n",
              "      <td>2351.107515</td>\n",
              "      <td>0.436436</td>\n",
              "    </tr>\n",
              "    <tr>\n",
              "      <th>min</th>\n",
              "      <td>0.000000</td>\n",
              "      <td>0.000000</td>\n",
              "      <td>0.000000</td>\n",
              "      <td>0.000000</td>\n",
              "      <td>1.000000</td>\n",
              "      <td>0.000000</td>\n",
              "      <td>0.000000</td>\n",
              "      <td>0.000000</td>\n",
              "      <td>0.000000</td>\n",
              "      <td>0.000000</td>\n",
              "      <td>0.000000</td>\n",
              "      <td>0.000000</td>\n",
              "      <td>0.000000</td>\n",
              "      <td>0.000000</td>\n",
              "      <td>0.000000</td>\n",
              "      <td>0.000000</td>\n",
              "      <td>0.000000</td>\n",
              "      <td>19.200000</td>\n",
              "      <td>39.250000</td>\n",
              "      <td>0.000000</td>\n",
              "    </tr>\n",
              "    <tr>\n",
              "      <th>25%</th>\n",
              "      <td>0.000000</td>\n",
              "      <td>0.000000</td>\n",
              "      <td>0.000000</td>\n",
              "      <td>0.000000</td>\n",
              "      <td>12.000000</td>\n",
              "      <td>1.000000</td>\n",
              "      <td>0.000000</td>\n",
              "      <td>1.000000</td>\n",
              "      <td>0.000000</td>\n",
              "      <td>0.000000</td>\n",
              "      <td>0.000000</td>\n",
              "      <td>0.000000</td>\n",
              "      <td>0.000000</td>\n",
              "      <td>0.000000</td>\n",
              "      <td>0.000000</td>\n",
              "      <td>1.000000</td>\n",
              "      <td>1.000000</td>\n",
              "      <td>44.400000</td>\n",
              "      <td>403.350000</td>\n",
              "      <td>0.000000</td>\n",
              "    </tr>\n",
              "    <tr>\n",
              "      <th>50%</th>\n",
              "      <td>1.000000</td>\n",
              "      <td>0.000000</td>\n",
              "      <td>0.000000</td>\n",
              "      <td>0.000000</td>\n",
              "      <td>19.000000</td>\n",
              "      <td>1.000000</td>\n",
              "      <td>0.000000</td>\n",
              "      <td>1.000000</td>\n",
              "      <td>0.000000</td>\n",
              "      <td>1.000000</td>\n",
              "      <td>1.000000</td>\n",
              "      <td>0.000000</td>\n",
              "      <td>1.000000</td>\n",
              "      <td>1.000000</td>\n",
              "      <td>0.000000</td>\n",
              "      <td>1.000000</td>\n",
              "      <td>2.000000</td>\n",
              "      <td>69.500000</td>\n",
              "      <td>1419.400000</td>\n",
              "      <td>0.000000</td>\n",
              "    </tr>\n",
              "    <tr>\n",
              "      <th>75%</th>\n",
              "      <td>1.000000</td>\n",
              "      <td>0.000000</td>\n",
              "      <td>1.000000</td>\n",
              "      <td>0.000000</td>\n",
              "      <td>55.000000</td>\n",
              "      <td>1.000000</td>\n",
              "      <td>1.000000</td>\n",
              "      <td>2.000000</td>\n",
              "      <td>1.000000</td>\n",
              "      <td>1.000000</td>\n",
              "      <td>1.000000</td>\n",
              "      <td>1.000000</td>\n",
              "      <td>1.000000</td>\n",
              "      <td>1.000000</td>\n",
              "      <td>1.000000</td>\n",
              "      <td>1.000000</td>\n",
              "      <td>2.000000</td>\n",
              "      <td>84.800000</td>\n",
              "      <td>3316.100000</td>\n",
              "      <td>0.000000</td>\n",
              "    </tr>\n",
              "    <tr>\n",
              "      <th>max</th>\n",
              "      <td>1.000000</td>\n",
              "      <td>1.000000</td>\n",
              "      <td>1.000000</td>\n",
              "      <td>1.000000</td>\n",
              "      <td>72.000000</td>\n",
              "      <td>1.000000</td>\n",
              "      <td>1.000000</td>\n",
              "      <td>2.000000</td>\n",
              "      <td>2.000000</td>\n",
              "      <td>2.000000</td>\n",
              "      <td>2.000000</td>\n",
              "      <td>2.000000</td>\n",
              "      <td>2.000000</td>\n",
              "      <td>2.000000</td>\n",
              "      <td>2.000000</td>\n",
              "      <td>1.000000</td>\n",
              "      <td>3.000000</td>\n",
              "      <td>104.950000</td>\n",
              "      <td>7544.300000</td>\n",
              "      <td>1.000000</td>\n",
              "    </tr>\n",
              "  </tbody>\n",
              "</table>\n",
              "</div>\n",
              "      <button class=\"colab-df-convert\" onclick=\"convertToInteractive('df-98fd9e63-1d19-477e-9420-2bfbe1e0b070')\"\n",
              "              title=\"Convert this dataframe to an interactive table.\"\n",
              "              style=\"display:none;\">\n",
              "        \n",
              "  <svg xmlns=\"http://www.w3.org/2000/svg\" height=\"24px\"viewBox=\"0 0 24 24\"\n",
              "       width=\"24px\">\n",
              "    <path d=\"M0 0h24v24H0V0z\" fill=\"none\"/>\n",
              "    <path d=\"M18.56 5.44l.94 2.06.94-2.06 2.06-.94-2.06-.94-.94-2.06-.94 2.06-2.06.94zm-11 1L8.5 8.5l.94-2.06 2.06-.94-2.06-.94L8.5 2.5l-.94 2.06-2.06.94zm10 10l.94 2.06.94-2.06 2.06-.94-2.06-.94-.94-2.06-.94 2.06-2.06.94z\"/><path d=\"M17.41 7.96l-1.37-1.37c-.4-.4-.92-.59-1.43-.59-.52 0-1.04.2-1.43.59L10.3 9.45l-7.72 7.72c-.78.78-.78 2.05 0 2.83L4 21.41c.39.39.9.59 1.41.59.51 0 1.02-.2 1.41-.59l7.78-7.78 2.81-2.81c.8-.78.8-2.07 0-2.86zM5.41 20L4 18.59l7.72-7.72 1.47 1.35L5.41 20z\"/>\n",
              "  </svg>\n",
              "      </button>\n",
              "      \n",
              "  <style>\n",
              "    .colab-df-container {\n",
              "      display:flex;\n",
              "      flex-wrap:wrap;\n",
              "      gap: 12px;\n",
              "    }\n",
              "\n",
              "    .colab-df-convert {\n",
              "      background-color: #E8F0FE;\n",
              "      border: none;\n",
              "      border-radius: 50%;\n",
              "      cursor: pointer;\n",
              "      display: none;\n",
              "      fill: #1967D2;\n",
              "      height: 32px;\n",
              "      padding: 0 0 0 0;\n",
              "      width: 32px;\n",
              "    }\n",
              "\n",
              "    .colab-df-convert:hover {\n",
              "      background-color: #E2EBFA;\n",
              "      box-shadow: 0px 1px 2px rgba(60, 64, 67, 0.3), 0px 1px 3px 1px rgba(60, 64, 67, 0.15);\n",
              "      fill: #174EA6;\n",
              "    }\n",
              "\n",
              "    [theme=dark] .colab-df-convert {\n",
              "      background-color: #3B4455;\n",
              "      fill: #D2E3FC;\n",
              "    }\n",
              "\n",
              "    [theme=dark] .colab-df-convert:hover {\n",
              "      background-color: #434B5C;\n",
              "      box-shadow: 0px 1px 3px 1px rgba(0, 0, 0, 0.15);\n",
              "      filter: drop-shadow(0px 1px 2px rgba(0, 0, 0, 0.3));\n",
              "      fill: #FFFFFF;\n",
              "    }\n",
              "  </style>\n",
              "\n",
              "      <script>\n",
              "        const buttonEl =\n",
              "          document.querySelector('#df-98fd9e63-1d19-477e-9420-2bfbe1e0b070 button.colab-df-convert');\n",
              "        buttonEl.style.display =\n",
              "          google.colab.kernel.accessAllowed ? 'block' : 'none';\n",
              "\n",
              "        async function convertToInteractive(key) {\n",
              "          const element = document.querySelector('#df-98fd9e63-1d19-477e-9420-2bfbe1e0b070');\n",
              "          const dataTable =\n",
              "            await google.colab.kernel.invokeFunction('convertToInteractive',\n",
              "                                                     [key], {});\n",
              "          if (!dataTable) return;\n",
              "\n",
              "          const docLinkHtml = 'Like what you see? Visit the ' +\n",
              "            '<a target=\"_blank\" href=https://colab.research.google.com/notebooks/data_table.ipynb>data table notebook</a>'\n",
              "            + ' to learn more about interactive tables.';\n",
              "          element.innerHTML = '';\n",
              "          dataTable['output_type'] = 'display_data';\n",
              "          await google.colab.output.renderOutput(dataTable, element);\n",
              "          const docLink = document.createElement('div');\n",
              "          docLink.innerHTML = docLinkHtml;\n",
              "          element.appendChild(docLink);\n",
              "        }\n",
              "      </script>\n",
              "    </div>\n",
              "  </div>\n",
              "  "
            ]
          },
          "metadata": {},
          "execution_count": 50
        }
      ]
    },
    {
      "cell_type": "markdown",
      "source": [
        "Averiguamos se há valores nulos que são precisos de ser tratados. "
      ],
      "metadata": {
        "id": "lnKlq6aeY-5V"
      }
    },
    {
      "cell_type": "code",
      "source": [
        "df.info()\n"
      ],
      "metadata": {
        "id": "8ob25fPrY1Oa",
        "colab": {
          "base_uri": "https://localhost:8080/"
        },
        "outputId": "ac89123a-2a35-48f1-9fe2-c28f6e686971"
      },
      "execution_count": 51,
      "outputs": [
        {
          "output_type": "stream",
          "name": "stdout",
          "text": [
            "<class 'pandas.core.frame.DataFrame'>\n",
            "RangeIndex: 7011 entries, 0 to 7010\n",
            "Data columns (total 21 columns):\n",
            " #   Column            Non-Null Count  Dtype  \n",
            "---  ------            --------------  -----  \n",
            " 0   customerID        7011 non-null   object \n",
            " 1   gender            7011 non-null   object \n",
            " 2   SeniorCitizen     7011 non-null   object \n",
            " 3   Partner           7011 non-null   int64  \n",
            " 4   Dependents        7011 non-null   object \n",
            " 5   Tenure            7011 non-null   int64  \n",
            " 6   PhoneService      7011 non-null   int64  \n",
            " 7   MultipleLines     7011 non-null   int64  \n",
            " 8   InternetService   7011 non-null   object \n",
            " 9   OnlineSecurity    7011 non-null   object \n",
            " 10  OnlineBackup      7011 non-null   object \n",
            " 11  DeviceProtection  7011 non-null   object \n",
            " 12  TechSupport       7011 non-null   object \n",
            " 13  StreamingTV       7011 non-null   int64  \n",
            " 14  StreamingMovies   7011 non-null   object \n",
            " 15  Contract          7011 non-null   object \n",
            " 16  PaperlessBilling  7011 non-null   object \n",
            " 17  PaymentMethod     7011 non-null   object \n",
            " 18  MonthlyCharges    7011 non-null   float64\n",
            " 19  TotalCharges      7011 non-null   float64\n",
            " 20  Churn             7011 non-null   int64  \n",
            "dtypes: float64(2), int64(6), object(13)\n",
            "memory usage: 1.1+ MB\n"
          ]
        }
      ]
    },
    {
      "cell_type": "markdown",
      "source": [
        "Podemos concluir que não há null values e que todas as colunas são bem detetadas"
      ],
      "metadata": {
        "id": "YCRFNFeBklRL"
      }
    },
    {
      "cell_type": "markdown",
      "source": [
        "\n",
        "\n",
        "Guardamos as colunas exceto a de customerID, que não afeta os dados"
      ],
      "metadata": {
        "id": "SjI2aXQvlWPw"
      }
    },
    {
      "cell_type": "markdown",
      "source": [
        "**(1) Informações Demográficas**\n",
        "\n",
        "\n",
        "* gender: Se o cliente é do sexo feminino ou masculino (female, male).\n",
        "* SeniorCitizen: Se o cliente é idoso ou não ( 0, 1).\n",
        "* Partner: Se o cliente tem parceiro ou não (Yes, No).\n",
        "* Dependents: Se o cliente tem dependentes ou não (Yes, No).\n",
        "\n",
        "\n",
        "**(2) Informações sobre a conta do cliente**\n",
        "\n",
        "* tenure: número de meses que o cliente permaneceu na empresa (vários valores numéricos diferentes).\n",
        "* Contract: Indica o tipo de contrato atual do cliente (Month to month, one year, two years).\n",
        "* PaperlessBilling: Se o cliente tem faturamento sem papel ou não (Yes, No)\n",
        "* PaymentMethod: Método de pagamento do cliente (Electronic check, Mailed check, Bank transfer (automatic), Credit Card (automatic)).\n",
        "* MontlyCharges: O valor cobrado do cliente mensalmente (vários valores numéricos diferentes).\n",
        "* TotalCharges: O valor total cobrado do cliente (vários valores numéricos diferentes).\n",
        "\n",
        "\n",
        "**(3) Informações de Serviços**\n",
        "\n",
        "\n",
        "* PhoneService: Se o cliente tem ou não serviço telefônico (Sim, Não).\n",
        "* MultipleLines: Se o cliente tem várias linhas ou não (Sem serviço telefônico, No, Yes).\n",
        "* InternetSevices: Se o cliente é assinante do serviço de Internet com a empresa (DSL, Fibra óptica, No)\n",
        "* Segurança Online: Se o cliente tem segurança online ou não (Sem serviço de internet, No, Yes).\n",
        "*   OnlineBackup: Se o cliente tem backup online ou não (Sem serviço de internet, No, Yes).\n",
        "* DeviceProtection: Se o cliente tem proteção de dispositivo ou não (Sem serviço de internet, No, Yes).\n",
        "\n",
        "* TechSupport: Se o cliente tem suporte técnico ou não (Sem serviço de internet, No, Yes).\n",
        "* StreamingTV: Se o cliente tem streaming de TV ou não (Sem serviço de internet, No, Yes).\n",
        "\n",
        "\n",
        "* StreamingMovies: Se o cliente tem streaming de filmes ou não (Sem serviço de internet, No, Yes).\n",
        "\n",
        "\n"
      ],
      "metadata": {
        "id": "ZJZyrBGdudVf"
      }
    },
    {
      "cell_type": "code",
      "source": [
        "# create a figure\n",
        "fig = plt.figure(figsize=(10, 6)) \n",
        "ax = fig.add_subplot(111)\n",
        "\n",
        "# proportion of observation of each class\n",
        "prop_response = df['Churn'].value_counts(normalize=True)*100\n",
        "\n",
        "# create a bar plot showing the percentage of churn\n",
        "prop_response.plot(kind='bar', \n",
        "                   ax=ax,\n",
        "                   color=['blue','red'])\n",
        "\n",
        "# set title and labels\n",
        "ax.set_title('Distribuição do churn',\n",
        "             fontsize=18, loc='left')\n",
        "ax.set_xlabel('churn',\n",
        "              fontsize=14)\n",
        "ax.set_ylabel('percentagem de clientes (%)',\n",
        "              fontsize=14)\n",
        "ax.tick_params(rotation='auto')\n",
        "\n",
        "# eliminate the frame from the plot\n",
        "spine_names = ('top', 'right', 'bottom', 'left')\n",
        "for spine_name in spine_names:\n",
        "    ax.spines[spine_name].set_visible(False)"
      ],
      "metadata": {
        "id": "zH2caUDouCBT",
        "colab": {
          "base_uri": "https://localhost:8080/",
          "height": 412
        },
        "outputId": "d4ce0a24-0465-4347-b049-ed1060fce7c5"
      },
      "execution_count": 52,
      "outputs": [
        {
          "output_type": "display_data",
          "data": {
            "text/plain": [
              "<Figure size 720x432 with 1 Axes>"
            ],
            "image/png": "[encoded data removed]"
          },
          "metadata": {
            "needs_background": "light"
          }
        }
      ]
    },
    {
      "cell_type": "code",
      "source": [
        "def percentage_stacked_plot(columns_to_plot, super_title):\n",
        "    \n",
        "    '''\n",
        "    Prints a 100% stacked plot of the response variable for independent variable of the list columns_to_plot.\n",
        "            Parameters:\n",
        "                    columns_to_plot (list of string): Names of the variables to plot\n",
        "                    super_title (string): Super title of the visualization\n",
        "            Returns:\n",
        "                    None\n",
        "    '''\n",
        "    \n",
        "    number_of_columns = 2\n",
        "    number_of_rows = math.ceil(len(columns_to_plot)/2)\n",
        "\n",
        "    # create a figure\n",
        "    fig = plt.figure(figsize=(12, 5 * number_of_rows)) \n",
        "    fig.suptitle(super_title, fontsize=22,  y=.95)\n",
        " \n",
        "\n",
        "    # loop to each column name to create a subplot\n",
        "    for index, column in enumerate(columns_to_plot, 1):\n",
        "\n",
        "        # create the subplot\n",
        "        ax = fig.add_subplot(number_of_rows, number_of_columns, index)\n",
        "\n",
        "        # calculate the percentage of observations of the response variable for each group of the independent variable\n",
        "        # 100% stacked bar plot\n",
        "        prop_by_independent = pd.crosstab(df[column], df_aux['Churn']).apply(lambda x: x/x.sum()*100, axis=1)\n",
        "\n",
        "        prop_by_independent.plot(kind='bar', ax=ax, stacked=False,\n",
        "                                 rot=0, color=['blue','red'])\n",
        "\n",
        "        # set the legend in the upper right corner\n",
        "        ax.legend(loc=\"upper right\", bbox_to_anchor=(0.62, 0.5, 0.5, 0.5),\n",
        "                  title='Churn', fancybox=True)\n",
        "\n",
        "        # set title and labels\n",
        "        ax.set_title( column,\n",
        "                     fontsize=16, loc='left')\n",
        "\n",
        "        ax.tick_params(rotation='auto')\n",
        "\n",
        "        # eliminate the frame from the plot\n",
        "        spine_names = ('top', 'right', 'bottom', 'left')\n",
        "        for spine_name in spine_names:\n",
        "            ax.spines[spine_name].set_visible(False)"
      ],
      "metadata": {
        "id": "uNk9L5S6DQzx"
      },
      "execution_count": 53,
      "outputs": []
    },
    {
      "cell_type": "markdown",
      "source": [
        "# Análise de Dados em relação a Dados Demográficos (gender, SeniorCitizen,Partner, Dependents)"
      ],
      "metadata": {
        "id": "_Ub-ySFGDheI"
      }
    },
    {
      "cell_type": "code",
      "source": [
        "demographic_columns = ['gender', 'SeniorCitizen', 'Partner', 'Dependents']\n",
        "\n",
        "# stacked plot of demographic columns\n",
        "percentage_stacked_plot(demographic_columns, '')"
      ],
      "metadata": {
        "colab": {
          "base_uri": "https://localhost:8080/",
          "height": 565
        },
        "id": "vQIn-gCRu7ld",
        "outputId": "036735dd-5c2f-4b90-f094-3c119d00c09c"
      },
      "execution_count": 54,
      "outputs": [
        {
          "output_type": "display_data",
          "data": {
            "text/plain": [
              "<Figure size 864x720 with 4 Axes>"
            ],
            "image/png": "[encoded data removed]"
          },
          "metadata": {
            "needs_background": "light"
          }
        }
      ]
    },
    {
      "cell_type": "markdown",
      "source": [
        "# **Conclusões - Dados Demográficos**\n",
        "Podemos conlcuir a partir destas informações demográficas que:\n",
        "\n",
        "\n",
        "*   **Cidadãos séniores** têm quase o dobro do **Churn** do que cidadãos jovens\n",
        "*   **Género** não é uma variável importante ao analisar a variação de **Churn**\n",
        "* **Clientes com dependentes** apresentam um **Churn** mais baixo\n",
        "*  **Clientes com um parceiro** apresentam um **Churn** mais baixo\n",
        "\n"
      ],
      "metadata": {
        "id": "aLeJIyVF06HG"
      }
    },
    {
      "cell_type": "markdown",
      "source": [
        "# Análise em relação a Dados da Contas (Contract, PaperlessBiling, PaymentMethod)"
      ],
      "metadata": {
        "id": "7kooO0215LUj"
      }
    },
    {
      "cell_type": "code",
      "source": [
        "# customer account column names\n",
        "account_columns = ['Contract', 'PaperlessBilling', 'PaymentMethod']\n",
        "\n",
        "# stacked plot of customer account columns\n",
        "percentage_stacked_plot(account_columns, '')"
      ],
      "metadata": {
        "id": "XTdE4nPK5UKz",
        "outputId": "67076cae-c87e-494f-8f34-d25b53d5ed75",
        "colab": {
          "base_uri": "https://localhost:8080/",
          "height": 561
        }
      },
      "execution_count": 55,
      "outputs": [
        {
          "output_type": "display_data",
          "data": {
            "text/plain": [
              "<Figure size 864x720 with 3 Axes>"
            ],
            "image/png": "[encoded data removed]"
          },
          "metadata": {
            "needs_background": "light"
          }
        }
      ]
    },
    {
      "cell_type": "markdown",
      "source": [
        "# **Conclusões - Dados de Conta**\n",
        "\n",
        "\n",
        "\n",
        "*   Quanto maior o tempo de contrato menor é o **Churn**\n",
        "*   Clientes que optam por pagar com cheque eletrónico (2) têm um **Churn** maior relativamente aos outros métodos\n",
        "* Clientes com Paperless Building têm **Churn** maior\n",
        "\n"
      ],
      "metadata": {
        "id": "nneqoEs1--FB"
      }
    },
    {
      "cell_type": "markdown",
      "source": [
        "# Análise de Dados em relação a **Informações de Serviços** "
      ],
      "metadata": {
        "id": "KzKx6wu7EXPe"
      }
    },
    {
      "cell_type": "code",
      "source": [
        "# services column names\n",
        "services_columns = ['PhoneService', 'MultipleLines', 'InternetService', 'OnlineSecurity',\n",
        "                   'OnlineBackup', 'DeviceProtection', 'TechSupport', 'StreamingTV', 'StreamingMovies']\n",
        "\n",
        "# stacked plot of services columns\n",
        "percentage_stacked_plot(services_columns, 'Services Information')"
      ],
      "metadata": {
        "id": "rlBxn4FyE9Mk",
        "outputId": "8b60a459-2124-49d0-8269-8fa197ac30d9",
        "colab": {
          "base_uri": "https://localhost:8080/",
          "height": 1000
        }
      },
      "execution_count": 56,
      "outputs": [
        {
          "output_type": "display_data",
          "data": {
            "text/plain": [
              "<Figure size 864x1800 with 9 Axes>"
            ],
            "image/png": "[encoded data removed]"
          },
          "metadata": {
            "needs_background": "light"
          }
        }
      ]
    },
    {
      "cell_type": "markdown",
      "source": [
        "# Conlusões - **Informações de Serviço**\n",
        "\n",
        "INserir conclusoes"
      ],
      "metadata": {
        "id": "Qh2VlQdFFELJ"
      }
    },
    {
      "cell_type": "markdown",
      "source": [
        "# Normalização"
      ],
      "metadata": {
        "id": "P_rFWRgqr2Ae"
      }
    },
    {
      "cell_type": "code",
      "source": [
        "min_max_columns = ['Tenure', 'MonthlyCharges', 'TotalCharges']\n",
        "\n",
        "\n",
        "for column in min_max_columns:\n",
        "        # minimum value of the column\n",
        "        min_column = df[column].min()\n",
        "        # maximum value of the column\n",
        "        max_column = df[column].max()\n",
        "        # min max scaler\n",
        "        df[column] = (df[column] - min_column) / (max_column - min_column)   "
      ],
      "metadata": {
        "id": "Xmi7Pv6btBrq"
      },
      "execution_count": 57,
      "outputs": []
    },
    {
      "cell_type": "markdown",
      "source": [
        "# Selecionamos os features importantes\n",
        "Removemos o **'customerID'** pois serve só como identificação de cada utilizador e não afeta o **churn**."
      ],
      "metadata": {
        "id": "IBxbFq_Wt5Vq"
      }
    },
    {
      "cell_type": "code",
      "source": [
        "features=['gender','SeniorCitizen','Partner','Dependents','Tenure','PhoneService','MultipleLines','InternetService','OnlineSecurity','OnlineBackup','DeviceProtection','TechSupport','StreamingTV','StreamingMovies','Contract','PaperlessBilling','PaymentMethod','MonthlyCharges','TotalCharges']"
      ],
      "metadata": {
        "id": "9_TwzQd1lvv0"
      },
      "execution_count": 58,
      "outputs": []
    },
    {
      "cell_type": "markdown",
      "source": [
        "Criamos duas variáveis com os inputs e as labels"
      ],
      "metadata": {
        "id": "nkjQfjr1wYtS"
      }
    },
    {
      "cell_type": "code",
      "source": [
        "x = df.loc[:,features]\n",
        "y=df.loc[:,['Churn']]\n"
      ],
      "metadata": {
        "id": "rl9MfZUxwsy1"
      },
      "execution_count": 63,
      "outputs": []
    },
    {
      "cell_type": "markdown",
      "source": [
        "Usamos o *train_test_split* para dividir a base de dados "
      ],
      "metadata": {
        "id": "N7HJf09xwysG"
      }
    },
    {
      "cell_type": "code",
      "source": [
        "\n",
        "X_train, X_test, y_train, y_test = train_test_split(x, y, train_size = .75)\n"
      ],
      "metadata": {
        "id": "LPvpKNmPww6q"
      },
      "execution_count": 60,
      "outputs": []
    },
    {
      "cell_type": "code",
      "execution_count": 64,
      "metadata": {
        "id": "B0eij7EcnaaV",
        "colab": {
          "base_uri": "https://localhost:8080/",
          "height": 398
        },
        "outputId": "ebe75348-d91e-4e44-898d-fbca3abd1c08"
      },
      "outputs": [
        {
          "output_type": "error",
          "ename": "ValueError",
          "evalue": "ignored",
          "traceback": [
            "\u001b[0;31m---------------------------------------------------------------------------\u001b[0m",
            "\u001b[0;31mValueError\u001b[0m                                Traceback (most recent call last)",
            "\u001b[0;32m<ipython-input-64-027dfca84f8d>\u001b[0m in \u001b[0;36m<module>\u001b[0;34m()\u001b[0m\n\u001b[1;32m      4\u001b[0m \u001b[0;34m\u001b[0m\u001b[0m\n\u001b[1;32m      5\u001b[0m \u001b[0;34m\u001b[0m\u001b[0m\n\u001b[0;32m----> 6\u001b[0;31m \u001b[0mclassifier\u001b[0m\u001b[0;34m.\u001b[0m\u001b[0mfit\u001b[0m\u001b[0;34m(\u001b[0m\u001b[0mX_train\u001b[0m\u001b[0;34m,\u001b[0m\u001b[0my_train\u001b[0m\u001b[0;34m)\u001b[0m\u001b[0;34m\u001b[0m\u001b[0;34m\u001b[0m\u001b[0m\n\u001b[0m\u001b[1;32m      7\u001b[0m \u001b[0;34m\u001b[0m\u001b[0m\n\u001b[1;32m      8\u001b[0m dot_data = tree.export_graphviz(classifier, out_file=None, \n",
            "\u001b[0;32m/usr/local/lib/python3.7/dist-packages/sklearn/tree/_classes.py\u001b[0m in \u001b[0;36mfit\u001b[0;34m(self, X, y, sample_weight, check_input, X_idx_sorted)\u001b[0m\n\u001b[1;32m    940\u001b[0m             \u001b[0msample_weight\u001b[0m\u001b[0;34m=\u001b[0m\u001b[0msample_weight\u001b[0m\u001b[0;34m,\u001b[0m\u001b[0;34m\u001b[0m\u001b[0;34m\u001b[0m\u001b[0m\n\u001b[1;32m    941\u001b[0m             \u001b[0mcheck_input\u001b[0m\u001b[0;34m=\u001b[0m\u001b[0mcheck_input\u001b[0m\u001b[0;34m,\u001b[0m\u001b[0;34m\u001b[0m\u001b[0;34m\u001b[0m\u001b[0m\n\u001b[0;32m--> 942\u001b[0;31m             \u001b[0mX_idx_sorted\u001b[0m\u001b[0;34m=\u001b[0m\u001b[0mX_idx_sorted\u001b[0m\u001b[0;34m,\u001b[0m\u001b[0;34m\u001b[0m\u001b[0;34m\u001b[0m\u001b[0m\n\u001b[0m\u001b[1;32m    943\u001b[0m         )\n\u001b[1;32m    944\u001b[0m         \u001b[0;32mreturn\u001b[0m \u001b[0mself\u001b[0m\u001b[0;34m\u001b[0m\u001b[0;34m\u001b[0m\u001b[0m\n",
            "\u001b[0;32m/usr/local/lib/python3.7/dist-packages/sklearn/tree/_classes.py\u001b[0m in \u001b[0;36mfit\u001b[0;34m(self, X, y, sample_weight, check_input, X_idx_sorted)\u001b[0m\n\u001b[1;32m    164\u001b[0m             \u001b[0mcheck_y_params\u001b[0m \u001b[0;34m=\u001b[0m \u001b[0mdict\u001b[0m\u001b[0;34m(\u001b[0m\u001b[0mensure_2d\u001b[0m\u001b[0;34m=\u001b[0m\u001b[0;32mFalse\u001b[0m\u001b[0;34m,\u001b[0m \u001b[0mdtype\u001b[0m\u001b[0;34m=\u001b[0m\u001b[0;32mNone\u001b[0m\u001b[0;34m)\u001b[0m\u001b[0;34m\u001b[0m\u001b[0;34m\u001b[0m\u001b[0m\n\u001b[1;32m    165\u001b[0m             X, y = self._validate_data(\n\u001b[0;32m--> 166\u001b[0;31m                 \u001b[0mX\u001b[0m\u001b[0;34m,\u001b[0m \u001b[0my\u001b[0m\u001b[0;34m,\u001b[0m \u001b[0mvalidate_separately\u001b[0m\u001b[0;34m=\u001b[0m\u001b[0;34m(\u001b[0m\u001b[0mcheck_X_params\u001b[0m\u001b[0;34m,\u001b[0m \u001b[0mcheck_y_params\u001b[0m\u001b[0;34m)\u001b[0m\u001b[0;34m\u001b[0m\u001b[0;34m\u001b[0m\u001b[0m\n\u001b[0m\u001b[1;32m    167\u001b[0m             )\n\u001b[1;32m    168\u001b[0m             \u001b[0;32mif\u001b[0m \u001b[0missparse\u001b[0m\u001b[0;34m(\u001b[0m\u001b[0mX\u001b[0m\u001b[0;34m)\u001b[0m\u001b[0;34m:\u001b[0m\u001b[0;34m\u001b[0m\u001b[0;34m\u001b[0m\u001b[0m\n",
            "\u001b[0;32m/usr/local/lib/python3.7/dist-packages/sklearn/base.py\u001b[0m in \u001b[0;36m_validate_data\u001b[0;34m(self, X, y, reset, validate_separately, **check_params)\u001b[0m\n\u001b[1;32m    576\u001b[0m                 \u001b[0;31m# :(\u001b[0m\u001b[0;34m\u001b[0m\u001b[0;34m\u001b[0m\u001b[0;34m\u001b[0m\u001b[0m\n\u001b[1;32m    577\u001b[0m                 \u001b[0mcheck_X_params\u001b[0m\u001b[0;34m,\u001b[0m \u001b[0mcheck_y_params\u001b[0m \u001b[0;34m=\u001b[0m \u001b[0mvalidate_separately\u001b[0m\u001b[0;34m\u001b[0m\u001b[0;34m\u001b[0m\u001b[0m\n\u001b[0;32m--> 578\u001b[0;31m                 \u001b[0mX\u001b[0m \u001b[0;34m=\u001b[0m \u001b[0mcheck_array\u001b[0m\u001b[0;34m(\u001b[0m\u001b[0mX\u001b[0m\u001b[0;34m,\u001b[0m \u001b[0;34m**\u001b[0m\u001b[0mcheck_X_params\u001b[0m\u001b[0;34m)\u001b[0m\u001b[0;34m\u001b[0m\u001b[0;34m\u001b[0m\u001b[0m\n\u001b[0m\u001b[1;32m    579\u001b[0m                 \u001b[0my\u001b[0m \u001b[0;34m=\u001b[0m \u001b[0mcheck_array\u001b[0m\u001b[0;34m(\u001b[0m\u001b[0my\u001b[0m\u001b[0;34m,\u001b[0m \u001b[0;34m**\u001b[0m\u001b[0mcheck_y_params\u001b[0m\u001b[0;34m)\u001b[0m\u001b[0;34m\u001b[0m\u001b[0;34m\u001b[0m\u001b[0m\n\u001b[1;32m    580\u001b[0m             \u001b[0;32melse\u001b[0m\u001b[0;34m:\u001b[0m\u001b[0;34m\u001b[0m\u001b[0;34m\u001b[0m\u001b[0m\n",
            "\u001b[0;32m/usr/local/lib/python3.7/dist-packages/sklearn/utils/validation.py\u001b[0m in \u001b[0;36mcheck_array\u001b[0;34m(array, accept_sparse, accept_large_sparse, dtype, order, copy, force_all_finite, ensure_2d, allow_nd, ensure_min_samples, ensure_min_features, estimator)\u001b[0m\n\u001b[1;32m    744\u001b[0m                     \u001b[0marray\u001b[0m \u001b[0;34m=\u001b[0m \u001b[0marray\u001b[0m\u001b[0;34m.\u001b[0m\u001b[0mastype\u001b[0m\u001b[0;34m(\u001b[0m\u001b[0mdtype\u001b[0m\u001b[0;34m,\u001b[0m \u001b[0mcasting\u001b[0m\u001b[0;34m=\u001b[0m\u001b[0;34m\"unsafe\"\u001b[0m\u001b[0;34m,\u001b[0m \u001b[0mcopy\u001b[0m\u001b[0;34m=\u001b[0m\u001b[0;32mFalse\u001b[0m\u001b[0;34m)\u001b[0m\u001b[0;34m\u001b[0m\u001b[0;34m\u001b[0m\u001b[0m\n\u001b[1;32m    745\u001b[0m                 \u001b[0;32melse\u001b[0m\u001b[0;34m:\u001b[0m\u001b[0;34m\u001b[0m\u001b[0;34m\u001b[0m\u001b[0m\n\u001b[0;32m--> 746\u001b[0;31m                     \u001b[0marray\u001b[0m \u001b[0;34m=\u001b[0m \u001b[0mnp\u001b[0m\u001b[0;34m.\u001b[0m\u001b[0masarray\u001b[0m\u001b[0;34m(\u001b[0m\u001b[0marray\u001b[0m\u001b[0;34m,\u001b[0m \u001b[0morder\u001b[0m\u001b[0;34m=\u001b[0m\u001b[0morder\u001b[0m\u001b[0;34m,\u001b[0m \u001b[0mdtype\u001b[0m\u001b[0;34m=\u001b[0m\u001b[0mdtype\u001b[0m\u001b[0;34m)\u001b[0m\u001b[0;34m\u001b[0m\u001b[0;34m\u001b[0m\u001b[0m\n\u001b[0m\u001b[1;32m    747\u001b[0m             \u001b[0;32mexcept\u001b[0m \u001b[0mComplexWarning\u001b[0m \u001b[0;32mas\u001b[0m \u001b[0mcomplex_warning\u001b[0m\u001b[0;34m:\u001b[0m\u001b[0;34m\u001b[0m\u001b[0;34m\u001b[0m\u001b[0m\n\u001b[1;32m    748\u001b[0m                 raise ValueError(\n",
            "\u001b[0;32m/usr/local/lib/python3.7/dist-packages/pandas/core/generic.py\u001b[0m in \u001b[0;36m__array__\u001b[0;34m(self, dtype)\u001b[0m\n\u001b[1;32m   1991\u001b[0m \u001b[0;34m\u001b[0m\u001b[0m\n\u001b[1;32m   1992\u001b[0m     \u001b[0;32mdef\u001b[0m \u001b[0m__array__\u001b[0m\u001b[0;34m(\u001b[0m\u001b[0mself\u001b[0m\u001b[0;34m,\u001b[0m \u001b[0mdtype\u001b[0m\u001b[0;34m:\u001b[0m \u001b[0mNpDtype\u001b[0m \u001b[0;34m|\u001b[0m \u001b[0;32mNone\u001b[0m \u001b[0;34m=\u001b[0m \u001b[0;32mNone\u001b[0m\u001b[0;34m)\u001b[0m \u001b[0;34m->\u001b[0m \u001b[0mnp\u001b[0m\u001b[0;34m.\u001b[0m\u001b[0mndarray\u001b[0m\u001b[0;34m:\u001b[0m\u001b[0;34m\u001b[0m\u001b[0;34m\u001b[0m\u001b[0m\n\u001b[0;32m-> 1993\u001b[0;31m         \u001b[0;32mreturn\u001b[0m \u001b[0mnp\u001b[0m\u001b[0;34m.\u001b[0m\u001b[0masarray\u001b[0m\u001b[0;34m(\u001b[0m\u001b[0mself\u001b[0m\u001b[0;34m.\u001b[0m\u001b[0m_values\u001b[0m\u001b[0;34m,\u001b[0m \u001b[0mdtype\u001b[0m\u001b[0;34m=\u001b[0m\u001b[0mdtype\u001b[0m\u001b[0;34m)\u001b[0m\u001b[0;34m\u001b[0m\u001b[0;34m\u001b[0m\u001b[0m\n\u001b[0m\u001b[1;32m   1994\u001b[0m \u001b[0;34m\u001b[0m\u001b[0m\n\u001b[1;32m   1995\u001b[0m     def __array_wrap__(\n",
            "\u001b[0;31mValueError\u001b[0m: could not convert string to float: 'female'"
          ]
        }
      ],
      "source": [
        "\n",
        "classifier = tree.DecisionTreeClassifier(criterion='entropy')\n",
        "#classifier = tree.DecisionTreeClassifier(criterion='entropy',random_state=0)\n",
        "\n",
        "\n",
        "classifier.fit(X_train,y_train)\n",
        "\n",
        "dot_data = tree.export_graphviz(classifier, out_file=None, \n",
        "                      feature_names=features,  \n",
        "                      class_names=['False','True'],  \n",
        "                      filled=True, rounded=True,  \n",
        "                      special_characters=True)  \n",
        "\n",
        "graph = graphviz.Source(dot_data)  \n",
        "graph \n",
        "\n",
        "\n",
        "#tree.plot_tree(classifier)\n",
        "\n",
        "\n",
        "#print(classifier.score(X_test,y_test))\n",
        "#predict\n",
        "#cross validation\n",
        "\n",
        "#classifier.predict(X_test) \n",
        "\n",
        "\n"
      ]
    }
  ]
}